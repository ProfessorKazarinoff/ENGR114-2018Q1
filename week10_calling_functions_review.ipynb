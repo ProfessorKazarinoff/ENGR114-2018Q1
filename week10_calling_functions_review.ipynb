{
 "cells": [
  {
   "cell_type": "markdown",
   "metadata": {},
   "source": [
    "# A Jupyter notebook that demonstrates calling fuctions from separate .py-files"
   ]
  },
  {
   "cell_type": "code",
   "execution_count": 1,
   "metadata": {},
   "outputs": [
    {
     "name": "stdout",
     "output_type": "stream",
     "text": [
      " Volume in drive C is Windows\n",
      " Volume Serial Number is 44E5-0D98\n",
      "\n",
      " Directory of C:\\Users\\student\\Desktop\n",
      "\n",
      "03/12/2019  02:58 PM    <DIR>          .\n",
      "03/12/2019  02:58 PM    <DIR>          ..\n",
      "03/12/2019  02:57 PM    <DIR>          .ipynb_checkpoints\n",
      "03/12/2019  02:58 PM               438 dice_funcs.py\n",
      "05/13/2016  01:33 PM               210 MSDS Online.url\n",
      "06/10/2015  02:29 PM    <DIR>          Safety Information\n",
      "03/12/2019  02:57 PM                72 week10_calling_functions_review.ipynb\n",
      "03/12/2019  02:53 PM             5,346 week10_exam2_review.ipynb\n",
      "               4 File(s)          6,066 bytes\n",
      "               4 Dir(s)  299,195,498,496 bytes free\n"
     ]
    }
   ],
   "source": [
    "%ls"
   ]
  },
  {
   "cell_type": "code",
   "execution_count": 5,
   "metadata": {},
   "outputs": [],
   "source": [
    "import dice_funcs"
   ]
  },
  {
   "cell_type": "code",
   "execution_count": 3,
   "metadata": {},
   "outputs": [
    {
     "data": {
      "text/plain": [
       "['__builtins__',\n",
       " '__cached__',\n",
       " '__doc__',\n",
       " '__file__',\n",
       " '__loader__',\n",
       " '__name__',\n",
       " '__package__',\n",
       " '__spec__',\n",
       " 'dice_add',\n",
       " 'dice_roll',\n",
       " 'random']"
      ]
     },
     "execution_count": 3,
     "metadata": {},
     "output_type": "execute_result"
    }
   ],
   "source": [
    "dir(dice_funcs)"
   ]
  },
  {
   "cell_type": "code",
   "execution_count": 6,
   "metadata": {},
   "outputs": [
    {
     "name": "stdout",
     "output_type": "stream",
     "text": [
      "How many dice do you want to roll? (between 1 and 5 dice only)?5\n",
      "Your dice roll is below:\n",
      "[2, 6, 5, 3, 1]\n",
      "Your dice roll total is 17\n"
     ]
    }
   ],
   "source": [
    "# Ask a user for how many dice they want to roll\n",
    "# limit the user to between 1 and 5 dice\n",
    "dice_n = 6\n",
    "while not (dice_n>=1 and dice_n<=5):\n",
    "    dice_str = input('How many dice do you want to roll? (between 1 and 5 dice only)?')\n",
    "    dice_n = int(dice_str)\n",
    "\n",
    "# roll the dice, print out the values or the dice\n",
    "dice_roll_lst = dice_funcs.dice_roll(dice_n)\n",
    "print('Your dice roll is below:')\n",
    "print(dice_roll_lst)\n",
    "\n",
    "# calculate the sum and print out the sum\n",
    "sum_of_dice = dice_funcs.dice_add(dice_roll_lst)\n",
    "print(f'Your dice roll total is {sum_of_dice}')"
   ]
  },
  {
   "cell_type": "code",
   "execution_count": 7,
   "metadata": {},
   "outputs": [
    {
     "name": "stdout",
     "output_type": "stream",
     "text": [
      "How many dice do you want to roll? (between 1 and 5 dice only)?4\n",
      "Your dice roll is below:\n",
      "[4, 3, 1, 3]\n",
      "Your dice roll total is 11\n"
     ]
    }
   ],
   "source": [
    "from dice_funcs import dice_roll, dice_add\n",
    "\n",
    "# Ask a user for how many dice they want to roll\n",
    "# limit the user to between 1 and 5 dice\n",
    "dice_n = 6\n",
    "while not (dice_n>=1 and dice_n<=5):\n",
    "    dice_str = input('How many dice do you want to roll? (between 1 and 5 dice only)?')\n",
    "    dice_n = int(dice_str)\n",
    "\n",
    "# roll the dice, print out the values or the dice\n",
    "dice_roll_lst = dice_roll(dice_n)\n",
    "print('Your dice roll is below:')\n",
    "print(dice_roll_lst)\n",
    "\n",
    "# calculate the sum and print out the sum\n",
    "sum_of_dice = dice_add(dice_roll_lst)\n",
    "print(f'Your dice roll total is {sum_of_dice}')"
   ]
  },
  {
   "cell_type": "code",
   "execution_count": null,
   "metadata": {},
   "outputs": [],
   "source": []
  }
 ],
 "metadata": {
  "kernelspec": {
   "display_name": "Python 3",
   "language": "python",
   "name": "python3"
  },
  "language_info": {
   "codemirror_mode": {
    "name": "ipython",
    "version": 3
   },
   "file_extension": ".py",
   "mimetype": "text/x-python",
   "name": "python",
   "nbconvert_exporter": "python",
   "pygments_lexer": "ipython3",
   "version": "3.7.0"
  }
 },
 "nbformat": 4,
 "nbformat_minor": 2
}
