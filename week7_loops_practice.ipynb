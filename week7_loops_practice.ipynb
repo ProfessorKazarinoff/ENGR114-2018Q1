{
 "cells": [
  {
   "cell_type": "markdown",
   "metadata": {},
   "source": [
    "# Week 7 Loops Practice"
   ]
  },
  {
   "cell_type": "code",
   "execution_count": null,
   "metadata": {},
   "outputs": [],
   "source": [
    "# for <var> in <interable>:\n",
    "#    <code>"
   ]
  },
  {
   "cell_type": "code",
   "execution_count": 2,
   "metadata": {},
   "outputs": [
    {
     "name": "stdout",
     "output_type": "stream",
     "text": [
      "ENGR114\n",
      "ENGR114\n",
      "ENGR114\n"
     ]
    }
   ],
   "source": [
    "# no for loop\n",
    "print('ENGR114')\n",
    "print('ENGR114')\n",
    "print('ENGR114')"
   ]
  },
  {
   "cell_type": "code",
   "execution_count": 5,
   "metadata": {},
   "outputs": [
    {
     "name": "stdout",
     "output_type": "stream",
     "text": [
      "ENGR114\n",
      "ENGR114\n",
      "ENGR114\n"
     ]
    }
   ],
   "source": [
    "# a for loop with Python's range() function\n",
    "\n",
    "for i in range(3):\n",
    "    print('ENGR114')"
   ]
  },
  {
   "cell_type": "code",
   "execution_count": 6,
   "metadata": {},
   "outputs": [
    {
     "name": "stdout",
     "output_type": "stream",
     "text": [
      "0\n",
      "1\n",
      "2\n"
     ]
    }
   ],
   "source": [
    "# print out the values produced by the range() function\n",
    "\n",
    "for i in range(3):\n",
    "    print(i)"
   ]
  },
  {
   "cell_type": "code",
   "execution_count": 7,
   "metadata": {},
   "outputs": [
    {
     "name": "stdout",
     "output_type": "stream",
     "text": [
      "10\n",
      "11\n",
      "12\n",
      "13\n"
     ]
    }
   ],
   "source": [
    "for i in range(10,14):      #range(start,stop)  remember Python counting starts at zero and ends at n-1\n",
    "    print(i)"
   ]
  },
  {
   "cell_type": "code",
   "execution_count": 10,
   "metadata": {},
   "outputs": [
    {
     "name": "stdout",
     "output_type": "stream",
     "text": [
      "10\n",
      "12\n",
      "14\n",
      "16\n",
      "18\n",
      "20\n"
     ]
    }
   ],
   "source": [
    "import time\n",
    "for i in range(10,22,2):\n",
    "    print(i)\n",
    "    time.sleep(0.5)"
   ]
  },
  {
   "cell_type": "code",
   "execution_count": 12,
   "metadata": {},
   "outputs": [
    {
     "name": "stdout",
     "output_type": "stream",
     "text": [
      "ENGR114\n",
      "23.1\n",
      "True\n"
     ]
    }
   ],
   "source": [
    "# run a for loop with a list\n",
    "values = ['ENGR114',23.1, True]\n",
    "\n",
    "for value in values:\n",
    "    print(value)\n",
    "\n",
    "\n",
    "\n"
   ]
  },
  {
   "cell_type": "code",
   "execution_count": 17,
   "metadata": {},
   "outputs": [
    {
     "name": "stdout",
     "output_type": "stream",
     "text": [
      "E N G R 1 1 4   E n g i n e e r i n g   P r o g r a m m i n g "
     ]
    }
   ],
   "source": [
    "letters ='ENGR114 Engineering Programming'\n",
    "\n",
    "for letter in letters:\n",
    "    print(letter, end=' ')"
   ]
  },
  {
   "cell_type": "code",
   "execution_count": 20,
   "metadata": {},
   "outputs": [
    {
     "name": "stdout",
     "output_type": "stream",
     "text": [
      "Pet Numer 0 is cat\n",
      "Pet Numer 1 is dog\n",
      "Pet Numer 2 is rabbit\n"
     ]
    }
   ],
   "source": [
    "lst =['cat','dog','rabbit']\n",
    "\n",
    "for num, pet in enumerate(lst):\n",
    "    print(f'Pet Numer {num} is {pet}')"
   ]
  },
  {
   "cell_type": "code",
   "execution_count": 23,
   "metadata": {},
   "outputs": [
    {
     "name": "stdout",
     "output_type": "stream",
     "text": [
      "Month 1 is Jan\n",
      "Month 2 is Feb\n",
      "Month 3 is Mar\n",
      "Month 4 is Apr\n",
      "Month 5 is May\n"
     ]
    }
   ],
   "source": [
    "months =['Jan','Feb','Mar','Apr','May']\n",
    "for num, month in enumerate(months):\n",
    "    print(f'Month {num+1} is {month}')"
   ]
  },
  {
   "cell_type": "code",
   "execution_count": 28,
   "metadata": {},
   "outputs": [
    {
     "name": "stdout",
     "output_type": "stream",
     "text": [
      "Jan\n",
      "Feb\n",
      "Mar\n",
      "Apr\n",
      "May\n",
      "end of spring quarter\n"
     ]
    }
   ],
   "source": [
    "months =['Jan','Feb','Mar','Apr','May','Jun','Jul','Aug']\n",
    "\n",
    "for month in months:\n",
    "    print(month)\n",
    "    if month=='Jun':\n",
    "        break\n",
    "\n",
    "print('end of spring quarter')\n"
   ]
  },
  {
   "cell_type": "code",
   "execution_count": 35,
   "metadata": {},
   "outputs": [
    {
     "name": "stdout",
     "output_type": "stream",
     "text": [
      "What number do you want to stop counting after?6.6\n",
      "0\n",
      "1\n",
      "2\n",
      "3\n",
      "4\n",
      "5\n",
      "6\n"
     ]
    }
   ],
   "source": [
    "# loop to count up to twelve, when we have the option of going up to twenty\n",
    "num_str = input('What number do you want to stop counting after?')\n",
    "num_int = int(float(num_str))\n",
    "for i in range(21):\n",
    "    print(i)\n",
    "    if num_int == i:\n",
    "        break"
   ]
  },
  {
   "cell_type": "code",
   "execution_count": 40,
   "metadata": {},
   "outputs": [
    {
     "name": "stdout",
     "output_type": "stream",
     "text": [
      "What number do you only want to print once?4\n",
      "\n",
      "0\n",
      "0\n",
      "0\n",
      "\n",
      "1\n",
      "1\n",
      "1\n",
      "\n",
      "2\n",
      "2\n",
      "2\n",
      "\n",
      "3\n",
      "3\n",
      "3\n",
      "\n",
      "4\n"
     ]
    }
   ],
   "source": [
    "num_str = input('What number do you only want to print once?')\n",
    "num_int=int(num_str)\n",
    "\n",
    "for i in range(5):\n",
    "    print()\n",
    "    print(i)\n",
    "    if i == num_int:\n",
    "        continue\n",
    "    print(i)\n",
    "    print(i)"
   ]
  },
  {
   "cell_type": "markdown",
   "metadata": {},
   "source": [
    "## Fizz Buzz"
   ]
  },
  {
   "cell_type": "code",
   "execution_count": 58,
   "metadata": {},
   "outputs": [
    {
     "name": "stdout",
     "output_type": "stream",
     "text": [
      "1\n",
      "2\n",
      "fizz\n",
      "4\n",
      "buzz\n",
      "fizz\n",
      "7\n",
      "8\n",
      "fizz\n",
      "buzz\n",
      "11\n",
      "fizz\n",
      "13\n",
      "14\n",
      "fizz buzz\n",
      "16\n",
      "17\n",
      "fizz\n",
      "19\n",
      "buzz\n",
      "fizz\n",
      "22\n",
      "23\n",
      "fizz\n",
      "buzz\n",
      "26\n",
      "fizz\n",
      "28\n",
      "29\n",
      "fizz buzz\n",
      "31\n",
      "32\n",
      "fizz\n",
      "34\n",
      "buzz\n",
      "fizz\n",
      "37\n",
      "38\n",
      "fizz\n",
      "buzz\n",
      "41\n",
      "fizz\n",
      "43\n",
      "44\n",
      "fizz buzz\n",
      "46\n",
      "47\n",
      "fizz\n",
      "49\n",
      "buzz\n",
      "fizz\n",
      "52\n",
      "53\n",
      "fizz\n",
      "buzz\n",
      "56\n",
      "fizz\n",
      "58\n",
      "59\n",
      "fizz buzz\n"
     ]
    }
   ],
   "source": [
    "\n",
    "for i in range(1,61):\n",
    "    if i%3==0 and i%5==0:\n",
    "        print('fizz buzz')\n",
    "    elif i%3==0:\n",
    "        print('fizz')\n",
    "    elif i%5==0:\n",
    "        print('buzz')\n",
    "    else:\n",
    "        print(i)"
   ]
  },
  {
   "cell_type": "code",
   "execution_count": 52,
   "metadata": {},
   "outputs": [
    {
     "data": {
      "text/plain": [
       "0"
      ]
     },
     "execution_count": 52,
     "metadata": {},
     "output_type": "execute_result"
    }
   ],
   "source": [
    "6%3"
   ]
  },
  {
   "cell_type": "code",
   "execution_count": 59,
   "metadata": {},
   "outputs": [
    {
     "name": "stdout",
     "output_type": "stream",
     "text": [
      "outer loop 0, inner loop 0\n",
      "outer loop 0, inner loop 1\n",
      "outer loop 0, inner loop 2\n",
      "outer loop 0, inner loop 3\n",
      "outer loop 0, inner loop 4\n",
      "outer loop 1, inner loop 0\n",
      "outer loop 1, inner loop 1\n",
      "outer loop 1, inner loop 2\n",
      "outer loop 1, inner loop 3\n",
      "outer loop 1, inner loop 4\n",
      "outer loop 2, inner loop 0\n",
      "outer loop 2, inner loop 1\n",
      "outer loop 2, inner loop 2\n",
      "outer loop 2, inner loop 3\n",
      "outer loop 2, inner loop 4\n"
     ]
    }
   ],
   "source": [
    "for outer in range(3):\n",
    "    for inner in range(5):\n",
    "        print(f'outer loop {outer}, inner loop {inner}')"
   ]
  },
  {
   "cell_type": "code",
   "execution_count": 60,
   "metadata": {},
   "outputs": [
    {
     "name": "stdout",
     "output_type": "stream",
     "text": [
      "outer loop 0, inner loop 0, 0, 0,0\n",
      "outer loop 0, inner loop 0, 0, 0,1\n",
      "outer loop 0, inner loop 0, 0, 0,2\n",
      "outer loop 0, inner loop 0, 0, 1,0\n",
      "outer loop 0, inner loop 0, 0, 1,1\n",
      "outer loop 0, inner loop 0, 0, 1,2\n",
      "outer loop 0, inner loop 0, 0, 2,0\n",
      "outer loop 0, inner loop 0, 0, 2,1\n",
      "outer loop 0, inner loop 0, 0, 2,2\n",
      "outer loop 0, inner loop 0, 1, 0,0\n",
      "outer loop 0, inner loop 0, 1, 0,1\n",
      "outer loop 0, inner loop 0, 1, 0,2\n",
      "outer loop 0, inner loop 0, 1, 1,0\n",
      "outer loop 0, inner loop 0, 1, 1,1\n",
      "outer loop 0, inner loop 0, 1, 1,2\n",
      "outer loop 0, inner loop 0, 1, 2,0\n",
      "outer loop 0, inner loop 0, 1, 2,1\n",
      "outer loop 0, inner loop 0, 1, 2,2\n",
      "outer loop 0, inner loop 0, 2, 0,0\n",
      "outer loop 0, inner loop 0, 2, 0,1\n",
      "outer loop 0, inner loop 0, 2, 0,2\n",
      "outer loop 0, inner loop 0, 2, 1,0\n",
      "outer loop 0, inner loop 0, 2, 1,1\n",
      "outer loop 0, inner loop 0, 2, 1,2\n",
      "outer loop 0, inner loop 0, 2, 2,0\n",
      "outer loop 0, inner loop 0, 2, 2,1\n",
      "outer loop 0, inner loop 0, 2, 2,2\n",
      "outer loop 0, inner loop 1, 0, 0,0\n",
      "outer loop 0, inner loop 1, 0, 0,1\n",
      "outer loop 0, inner loop 1, 0, 0,2\n",
      "outer loop 0, inner loop 1, 0, 1,0\n",
      "outer loop 0, inner loop 1, 0, 1,1\n",
      "outer loop 0, inner loop 1, 0, 1,2\n",
      "outer loop 0, inner loop 1, 0, 2,0\n",
      "outer loop 0, inner loop 1, 0, 2,1\n",
      "outer loop 0, inner loop 1, 0, 2,2\n",
      "outer loop 0, inner loop 1, 1, 0,0\n",
      "outer loop 0, inner loop 1, 1, 0,1\n",
      "outer loop 0, inner loop 1, 1, 0,2\n",
      "outer loop 0, inner loop 1, 1, 1,0\n",
      "outer loop 0, inner loop 1, 1, 1,1\n",
      "outer loop 0, inner loop 1, 1, 1,2\n",
      "outer loop 0, inner loop 1, 1, 2,0\n",
      "outer loop 0, inner loop 1, 1, 2,1\n",
      "outer loop 0, inner loop 1, 1, 2,2\n",
      "outer loop 0, inner loop 1, 2, 0,0\n",
      "outer loop 0, inner loop 1, 2, 0,1\n",
      "outer loop 0, inner loop 1, 2, 0,2\n",
      "outer loop 0, inner loop 1, 2, 1,0\n",
      "outer loop 0, inner loop 1, 2, 1,1\n",
      "outer loop 0, inner loop 1, 2, 1,2\n",
      "outer loop 0, inner loop 1, 2, 2,0\n",
      "outer loop 0, inner loop 1, 2, 2,1\n",
      "outer loop 0, inner loop 1, 2, 2,2\n",
      "outer loop 0, inner loop 2, 0, 0,0\n",
      "outer loop 0, inner loop 2, 0, 0,1\n",
      "outer loop 0, inner loop 2, 0, 0,2\n",
      "outer loop 0, inner loop 2, 0, 1,0\n",
      "outer loop 0, inner loop 2, 0, 1,1\n",
      "outer loop 0, inner loop 2, 0, 1,2\n",
      "outer loop 0, inner loop 2, 0, 2,0\n",
      "outer loop 0, inner loop 2, 0, 2,1\n",
      "outer loop 0, inner loop 2, 0, 2,2\n",
      "outer loop 0, inner loop 2, 1, 0,0\n",
      "outer loop 0, inner loop 2, 1, 0,1\n",
      "outer loop 0, inner loop 2, 1, 0,2\n",
      "outer loop 0, inner loop 2, 1, 1,0\n",
      "outer loop 0, inner loop 2, 1, 1,1\n",
      "outer loop 0, inner loop 2, 1, 1,2\n",
      "outer loop 0, inner loop 2, 1, 2,0\n",
      "outer loop 0, inner loop 2, 1, 2,1\n",
      "outer loop 0, inner loop 2, 1, 2,2\n",
      "outer loop 0, inner loop 2, 2, 0,0\n",
      "outer loop 0, inner loop 2, 2, 0,1\n",
      "outer loop 0, inner loop 2, 2, 0,2\n",
      "outer loop 0, inner loop 2, 2, 1,0\n",
      "outer loop 0, inner loop 2, 2, 1,1\n",
      "outer loop 0, inner loop 2, 2, 1,2\n",
      "outer loop 0, inner loop 2, 2, 2,0\n",
      "outer loop 0, inner loop 2, 2, 2,1\n",
      "outer loop 0, inner loop 2, 2, 2,2\n",
      "outer loop 1, inner loop 0, 0, 0,0\n",
      "outer loop 1, inner loop 0, 0, 0,1\n",
      "outer loop 1, inner loop 0, 0, 0,2\n",
      "outer loop 1, inner loop 0, 0, 1,0\n",
      "outer loop 1, inner loop 0, 0, 1,1\n",
      "outer loop 1, inner loop 0, 0, 1,2\n",
      "outer loop 1, inner loop 0, 0, 2,0\n",
      "outer loop 1, inner loop 0, 0, 2,1\n",
      "outer loop 1, inner loop 0, 0, 2,2\n",
      "outer loop 1, inner loop 0, 1, 0,0\n",
      "outer loop 1, inner loop 0, 1, 0,1\n",
      "outer loop 1, inner loop 0, 1, 0,2\n",
      "outer loop 1, inner loop 0, 1, 1,0\n",
      "outer loop 1, inner loop 0, 1, 1,1\n",
      "outer loop 1, inner loop 0, 1, 1,2\n",
      "outer loop 1, inner loop 0, 1, 2,0\n",
      "outer loop 1, inner loop 0, 1, 2,1\n",
      "outer loop 1, inner loop 0, 1, 2,2\n",
      "outer loop 1, inner loop 0, 2, 0,0\n",
      "outer loop 1, inner loop 0, 2, 0,1\n",
      "outer loop 1, inner loop 0, 2, 0,2\n",
      "outer loop 1, inner loop 0, 2, 1,0\n",
      "outer loop 1, inner loop 0, 2, 1,1\n",
      "outer loop 1, inner loop 0, 2, 1,2\n",
      "outer loop 1, inner loop 0, 2, 2,0\n",
      "outer loop 1, inner loop 0, 2, 2,1\n",
      "outer loop 1, inner loop 0, 2, 2,2\n",
      "outer loop 1, inner loop 1, 0, 0,0\n",
      "outer loop 1, inner loop 1, 0, 0,1\n",
      "outer loop 1, inner loop 1, 0, 0,2\n",
      "outer loop 1, inner loop 1, 0, 1,0\n",
      "outer loop 1, inner loop 1, 0, 1,1\n",
      "outer loop 1, inner loop 1, 0, 1,2\n",
      "outer loop 1, inner loop 1, 0, 2,0\n",
      "outer loop 1, inner loop 1, 0, 2,1\n",
      "outer loop 1, inner loop 1, 0, 2,2\n",
      "outer loop 1, inner loop 1, 1, 0,0\n",
      "outer loop 1, inner loop 1, 1, 0,1\n",
      "outer loop 1, inner loop 1, 1, 0,2\n",
      "outer loop 1, inner loop 1, 1, 1,0\n",
      "outer loop 1, inner loop 1, 1, 1,1\n",
      "outer loop 1, inner loop 1, 1, 1,2\n",
      "outer loop 1, inner loop 1, 1, 2,0\n",
      "outer loop 1, inner loop 1, 1, 2,1\n",
      "outer loop 1, inner loop 1, 1, 2,2\n",
      "outer loop 1, inner loop 1, 2, 0,0\n",
      "outer loop 1, inner loop 1, 2, 0,1\n",
      "outer loop 1, inner loop 1, 2, 0,2\n",
      "outer loop 1, inner loop 1, 2, 1,0\n",
      "outer loop 1, inner loop 1, 2, 1,1\n",
      "outer loop 1, inner loop 1, 2, 1,2\n",
      "outer loop 1, inner loop 1, 2, 2,0\n",
      "outer loop 1, inner loop 1, 2, 2,1\n",
      "outer loop 1, inner loop 1, 2, 2,2\n",
      "outer loop 1, inner loop 2, 0, 0,0\n",
      "outer loop 1, inner loop 2, 0, 0,1\n",
      "outer loop 1, inner loop 2, 0, 0,2\n",
      "outer loop 1, inner loop 2, 0, 1,0\n",
      "outer loop 1, inner loop 2, 0, 1,1\n",
      "outer loop 1, inner loop 2, 0, 1,2\n",
      "outer loop 1, inner loop 2, 0, 2,0\n",
      "outer loop 1, inner loop 2, 0, 2,1\n",
      "outer loop 1, inner loop 2, 0, 2,2\n",
      "outer loop 1, inner loop 2, 1, 0,0\n",
      "outer loop 1, inner loop 2, 1, 0,1\n",
      "outer loop 1, inner loop 2, 1, 0,2\n",
      "outer loop 1, inner loop 2, 1, 1,0\n",
      "outer loop 1, inner loop 2, 1, 1,1\n",
      "outer loop 1, inner loop 2, 1, 1,2\n",
      "outer loop 1, inner loop 2, 1, 2,0\n",
      "outer loop 1, inner loop 2, 1, 2,1\n",
      "outer loop 1, inner loop 2, 1, 2,2\n",
      "outer loop 1, inner loop 2, 2, 0,0\n",
      "outer loop 1, inner loop 2, 2, 0,1\n",
      "outer loop 1, inner loop 2, 2, 0,2\n",
      "outer loop 1, inner loop 2, 2, 1,0\n",
      "outer loop 1, inner loop 2, 2, 1,1\n",
      "outer loop 1, inner loop 2, 2, 1,2\n",
      "outer loop 1, inner loop 2, 2, 2,0\n",
      "outer loop 1, inner loop 2, 2, 2,1\n",
      "outer loop 1, inner loop 2, 2, 2,2\n",
      "outer loop 2, inner loop 0, 0, 0,0\n",
      "outer loop 2, inner loop 0, 0, 0,1\n",
      "outer loop 2, inner loop 0, 0, 0,2\n",
      "outer loop 2, inner loop 0, 0, 1,0\n",
      "outer loop 2, inner loop 0, 0, 1,1\n",
      "outer loop 2, inner loop 0, 0, 1,2\n",
      "outer loop 2, inner loop 0, 0, 2,0\n",
      "outer loop 2, inner loop 0, 0, 2,1\n",
      "outer loop 2, inner loop 0, 0, 2,2\n",
      "outer loop 2, inner loop 0, 1, 0,0\n",
      "outer loop 2, inner loop 0, 1, 0,1\n",
      "outer loop 2, inner loop 0, 1, 0,2\n",
      "outer loop 2, inner loop 0, 1, 1,0\n",
      "outer loop 2, inner loop 0, 1, 1,1\n",
      "outer loop 2, inner loop 0, 1, 1,2\n",
      "outer loop 2, inner loop 0, 1, 2,0\n",
      "outer loop 2, inner loop 0, 1, 2,1\n",
      "outer loop 2, inner loop 0, 1, 2,2\n",
      "outer loop 2, inner loop 0, 2, 0,0\n",
      "outer loop 2, inner loop 0, 2, 0,1\n",
      "outer loop 2, inner loop 0, 2, 0,2\n",
      "outer loop 2, inner loop 0, 2, 1,0\n",
      "outer loop 2, inner loop 0, 2, 1,1\n",
      "outer loop 2, inner loop 0, 2, 1,2\n",
      "outer loop 2, inner loop 0, 2, 2,0\n",
      "outer loop 2, inner loop 0, 2, 2,1\n",
      "outer loop 2, inner loop 0, 2, 2,2\n",
      "outer loop 2, inner loop 1, 0, 0,0\n",
      "outer loop 2, inner loop 1, 0, 0,1\n",
      "outer loop 2, inner loop 1, 0, 0,2\n",
      "outer loop 2, inner loop 1, 0, 1,0\n",
      "outer loop 2, inner loop 1, 0, 1,1\n",
      "outer loop 2, inner loop 1, 0, 1,2\n",
      "outer loop 2, inner loop 1, 0, 2,0\n",
      "outer loop 2, inner loop 1, 0, 2,1\n",
      "outer loop 2, inner loop 1, 0, 2,2\n",
      "outer loop 2, inner loop 1, 1, 0,0\n",
      "outer loop 2, inner loop 1, 1, 0,1\n",
      "outer loop 2, inner loop 1, 1, 0,2\n",
      "outer loop 2, inner loop 1, 1, 1,0\n",
      "outer loop 2, inner loop 1, 1, 1,1\n",
      "outer loop 2, inner loop 1, 1, 1,2\n",
      "outer loop 2, inner loop 1, 1, 2,0\n",
      "outer loop 2, inner loop 1, 1, 2,1\n",
      "outer loop 2, inner loop 1, 1, 2,2\n",
      "outer loop 2, inner loop 1, 2, 0,0\n",
      "outer loop 2, inner loop 1, 2, 0,1\n",
      "outer loop 2, inner loop 1, 2, 0,2\n",
      "outer loop 2, inner loop 1, 2, 1,0\n",
      "outer loop 2, inner loop 1, 2, 1,1\n",
      "outer loop 2, inner loop 1, 2, 1,2\n",
      "outer loop 2, inner loop 1, 2, 2,0\n",
      "outer loop 2, inner loop 1, 2, 2,1\n",
      "outer loop 2, inner loop 1, 2, 2,2\n",
      "outer loop 2, inner loop 2, 0, 0,0\n",
      "outer loop 2, inner loop 2, 0, 0,1\n",
      "outer loop 2, inner loop 2, 0, 0,2\n",
      "outer loop 2, inner loop 2, 0, 1,0\n",
      "outer loop 2, inner loop 2, 0, 1,1\n",
      "outer loop 2, inner loop 2, 0, 1,2\n",
      "outer loop 2, inner loop 2, 0, 2,0\n",
      "outer loop 2, inner loop 2, 0, 2,1\n",
      "outer loop 2, inner loop 2, 0, 2,2\n",
      "outer loop 2, inner loop 2, 1, 0,0\n",
      "outer loop 2, inner loop 2, 1, 0,1\n",
      "outer loop 2, inner loop 2, 1, 0,2\n",
      "outer loop 2, inner loop 2, 1, 1,0\n",
      "outer loop 2, inner loop 2, 1, 1,1\n",
      "outer loop 2, inner loop 2, 1, 1,2\n",
      "outer loop 2, inner loop 2, 1, 2,0\n",
      "outer loop 2, inner loop 2, 1, 2,1\n",
      "outer loop 2, inner loop 2, 1, 2,2\n",
      "outer loop 2, inner loop 2, 2, 0,0\n",
      "outer loop 2, inner loop 2, 2, 0,1\n",
      "outer loop 2, inner loop 2, 2, 0,2\n",
      "outer loop 2, inner loop 2, 2, 1,0\n",
      "outer loop 2, inner loop 2, 2, 1,1\n",
      "outer loop 2, inner loop 2, 2, 1,2\n",
      "outer loop 2, inner loop 2, 2, 2,0\n",
      "outer loop 2, inner loop 2, 2, 2,1\n",
      "outer loop 2, inner loop 2, 2, 2,2\n"
     ]
    }
   ],
   "source": [
    "for outer in range(3):\n",
    "    for inner in range(3):\n",
    "        for inner1 in range(3):\n",
    "            for inner2 in range(3):\n",
    "                for inner3 in range(3):\n",
    "                    print(f'outer loop {outer}, inner loop {inner}, {inner1}, {inner2},{inner3}')"
   ]
  },
  {
   "cell_type": "code",
   "execution_count": null,
   "metadata": {},
   "outputs": [],
   "source": []
  }
 ],
 "metadata": {
  "kernelspec": {
   "display_name": "Python 3",
   "language": "python",
   "name": "python3"
  },
  "language_info": {
   "codemirror_mode": {
    "name": "ipython",
    "version": 3
   },
   "file_extension": ".py",
   "mimetype": "text/x-python",
   "name": "python",
   "nbconvert_exporter": "python",
   "pygments_lexer": "ipython3",
   "version": "3.7.0"
  }
 },
 "nbformat": 4,
 "nbformat_minor": 2
}
