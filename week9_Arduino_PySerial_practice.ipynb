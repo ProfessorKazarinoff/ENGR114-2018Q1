{
 "cells": [
  {
   "cell_type": "markdown",
   "metadata": {},
   "source": [
    "# Week 9 - Python communication with an Arduino"
   ]
  },
  {
   "cell_type": "markdown",
   "metadata": {},
   "source": [
    "Ensure that the PySerial package is installed before running the code in this notebook. This notebook must be closed and re-opened after the PySerial package is installed.\n",
    "\n",
    "To install the PySerial package, open the **Anaconda Promt** and type the command:\n",
    "\n",
    "```text\n",
    "conda install pyserial\n",
    "```\n",
    "\n",
    "Then type ```y``` when prompted."
   ]
  },
  {
   "cell_type": "code",
   "execution_count": null,
   "metadata": {},
   "outputs": [],
   "source": [
    "# import the PySerial package.\n",
    "# note: even though the package is called PySerial and we installed it with the command conda install serial,\n",
    "# the package is imported into a script with the line import serial.\n",
    "\n",
    "import serial"
   ]
  },
  {
   "cell_type": "code",
   "execution_count": null,
   "metadata": {},
   "outputs": [],
   "source": [
    "# connect to the Arduino over the Serial Port\n",
    "# ensure the Arduino Serial Monitor and Arduino Serial Plotter are both closed\n",
    "\n",
    "ser  = serial.Serial('COM4', 9600) # Port 'COM4', 9600 baud communication speed"
   ]
  },
  {
   "cell_type": "code",
   "execution_count": null,
   "metadata": {},
   "outputs": [],
   "source": [
    "ser.write(b'H')  # send the byte 'H'"
   ]
  },
  {
   "cell_type": "code",
   "execution_count": null,
   "metadata": {},
   "outputs": [],
   "source": [
    "ser.write(b'L')  # send the byte 'L'"
   ]
  },
  {
   "cell_type": "code",
   "execution_count": null,
   "metadata": {},
   "outputs": [],
   "source": [
    "ser.write(b'H')"
   ]
  },
  {
   "cell_type": "code",
   "execution_count": null,
   "metadata": {},
   "outputs": [],
   "source": [
    "ser.write(b'L')"
   ]
  },
  {
   "cell_type": "code",
   "execution_count": null,
   "metadata": {},
   "outputs": [],
   "source": [
    "ser.close()     # close the serial port"
   ]
  }
 ],
 "metadata": {
  "kernelspec": {
   "display_name": "Python 3",
   "language": "python",
   "name": "python3"
  },
  "language_info": {
   "codemirror_mode": {
    "name": "ipython",
    "version": 3
   },
   "file_extension": ".py",
   "mimetype": "text/x-python",
   "name": "python",
   "nbconvert_exporter": "python",
   "pygments_lexer": "ipython3",
   "version": "3.6.4"
  }
 },
 "nbformat": 4,
 "nbformat_minor": 2
}
