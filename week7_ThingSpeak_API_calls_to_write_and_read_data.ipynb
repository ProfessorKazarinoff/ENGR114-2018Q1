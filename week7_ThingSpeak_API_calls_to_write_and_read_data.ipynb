{
 "cells": [
  {
   "cell_type": "markdown",
   "metadata": {},
   "source": [
    "# ThingSpeak.com web API calls to write or read data"
   ]
  },
  {
   "cell_type": "code",
   "execution_count": 1,
   "metadata": {},
   "outputs": [],
   "source": [
    "import requests"
   ]
  },
  {
   "cell_type": "code",
   "execution_count": 2,
   "metadata": {},
   "outputs": [
    {
     "data": {
      "text/plain": [
       "'2.19.1'"
      ]
     },
     "execution_count": 2,
     "metadata": {},
     "output_type": "execute_result"
    }
   ],
   "source": [
    "requests.__version__"
   ]
  },
  {
   "cell_type": "code",
   "execution_count": 21,
   "metadata": {},
   "outputs": [
    {
     "data": {
      "text/plain": [
       "'https://api.thingspeak.com/channels/707691/fields/2.json?results=2'"
      ]
     },
     "execution_count": 21,
     "metadata": {},
     "output_type": "execute_result"
    }
   ],
   "source": [
    "## Read data stored on ThingSpeak.com\n",
    "\n",
    "# https://api.thingspeak.com/channels/707691/fields/1.json?results=2\n",
    "\n",
    "base_url = 'https://api.thingspeak.com/channels/'\n",
    "channel_num = '707691'\n",
    "mid_url = '/fields/'\n",
    "field_num = '2'\n",
    "end_url = '.json?results='\n",
    "results_num ='2'       #number of datapoints, saved as a string\n",
    "\n",
    "url = base_url + channel_num + mid_url + field_num + end_url + results_num\n",
    "url"
   ]
  },
  {
   "cell_type": "code",
   "execution_count": 22,
   "metadata": {},
   "outputs": [],
   "source": [
    "#use the requests library to pull down the data from thingspeak into a variable\n",
    "r = requests.get(url)\n",
    "json_data = r.json()"
   ]
  },
  {
   "cell_type": "code",
   "execution_count": 23,
   "metadata": {},
   "outputs": [
    {
     "data": {
      "text/plain": [
       "dict"
      ]
     },
     "execution_count": 23,
     "metadata": {},
     "output_type": "execute_result"
    }
   ],
   "source": [
    "type(json_data)"
   ]
  },
  {
   "cell_type": "code",
   "execution_count": 25,
   "metadata": {},
   "outputs": [
    {
     "name": "stdout",
     "output_type": "stream",
     "text": [
      "0\n"
     ]
    }
   ],
   "source": [
    "print(json_data['feeds'][0]['field2'])"
   ]
  },
  {
   "cell_type": "code",
   "execution_count": null,
   "metadata": {},
   "outputs": [],
   "source": [
    "# Use Python to write a datapoint up to ThingSpeak\n",
    "\n",
    "# Need an API key (a password) to do write a data point\n",
    "\n",
    "# https://api.thingspeak.com/update?api_key=XXXXXXXXXXXXXXXXXXXXX&field1=0"
   ]
  },
  {
   "cell_type": "code",
   "execution_count": 30,
   "metadata": {},
   "outputs": [],
   "source": [
    "import requests"
   ]
  },
  {
   "cell_type": "code",
   "execution_count": 35,
   "metadata": {},
   "outputs": [],
   "source": [
    "r = requests.get('https://api.thingspeak.com/update?api_key=XXXXXXXXXXXXXXXXXXXXXXXXX=1')"
   ]
  },
  {
   "cell_type": "code",
   "execution_count": 36,
   "metadata": {},
   "outputs": [
    {
     "name": "stdout",
     "output_type": "stream",
     "text": [
      "0\n"
     ]
    }
   ],
   "source": [
    "print(r.text)"
   ]
  },
  {
   "cell_type": "code",
   "execution_count": 37,
   "metadata": {},
   "outputs": [
    {
     "name": "stdout",
     "output_type": "stream",
     "text": [
      " Volume in drive C is Windows\n",
      " Volume Serial Number is 44E5-0D98\n",
      "\n",
      " Directory of C:\\Users\\student\\Desktop\n",
      "\n",
      "02/19/2019  01:51 PM    <DIR>          .\n",
      "02/19/2019  01:51 PM    <DIR>          ..\n",
      "02/19/2019  01:34 PM    <DIR>          .ipynb_checkpoints\n",
      "02/19/2019  01:51 PM                71 API_key.py\n",
      "05/13/2016  12:33 PM               210 MSDS Online.url\n",
      "06/10/2015  01:29 PM    <DIR>          Safety Information\n",
      "02/19/2019  01:49 PM             3,650 ThingSpeak_API_calls_to_write_and_read_data.ipynb\n",
      "               3 File(s)          3,931 bytes\n",
      "               4 Dir(s)  299,164,938,240 bytes free\n"
     ]
    }
   ],
   "source": [
    "# make sure the .py-file with the private API key is in the same directory as the notebook\n",
    "%ls"
   ]
  },
  {
   "cell_type": "code",
   "execution_count": 43,
   "metadata": {},
   "outputs": [
    {
     "name": "stdout",
     "output_type": "stream",
     "text": [
      "2R97SOL3EVG468P7\n"
     ]
    }
   ],
   "source": [
    "# import the private API Key (like a password) from an external file\n",
    "from API_key import API_KEY\n",
    "print(API_KEY)"
   ]
  },
  {
   "cell_type": "code",
   "execution_count": 46,
   "metadata": {},
   "outputs": [],
   "source": [
    "## Upload a datapoint to ThingSpeak.com \n",
    "#ex: a sensor reads a temperature of 25.3 degrees\n",
    "\n",
    "#'https://api.thingspeak.com/update?api_key=XXXXXXXXXXXXXXXXXXXXXX&field1=1'\n",
    "base_url = 'https://api.thingspeak.com/update?api_key='\n",
    "api_key = API_KEY\n",
    "mid_url ='&field2='     # include field number, if only one field use 1\n",
    "data_point = '25.3'     # data from the sensor as a string\n",
    "url = base_url + api_key + mid_url + data_point\n",
    "#url"
   ]
  },
  {
   "cell_type": "code",
   "execution_count": 47,
   "metadata": {},
   "outputs": [
    {
     "name": "stdout",
     "output_type": "stream",
     "text": [
      "<Response [200]>\n"
     ]
    }
   ],
   "source": [
    "r = requests.get(url)\n",
    "print(r)"
   ]
  },
  {
   "cell_type": "code",
   "execution_count": null,
   "metadata": {},
   "outputs": [],
   "source": []
  },
  {
   "cell_type": "code",
   "execution_count": null,
   "metadata": {},
   "outputs": [],
   "source": []
  }
 ],
 "metadata": {
  "kernelspec": {
   "display_name": "Python 3",
   "language": "python",
   "name": "python3"
  },
  "language_info": {
   "codemirror_mode": {
    "name": "ipython",
    "version": 3
   },
   "file_extension": ".py",
   "mimetype": "text/x-python",
   "name": "python",
   "nbconvert_exporter": "python",
   "pygments_lexer": "ipython3",
   "version": "3.7.0"
  }
 },
 "nbformat": 4,
 "nbformat_minor": 2
}
