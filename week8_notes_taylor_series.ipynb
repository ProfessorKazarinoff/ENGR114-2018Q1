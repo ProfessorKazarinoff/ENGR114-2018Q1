{
 "cells": [
  {
   "cell_type": "markdown",
   "metadata": {},
   "source": [
    "# Week 8 Notes on Taylor Series"
   ]
  },
  {
   "cell_type": "code",
   "execution_count": 1,
   "metadata": {},
   "outputs": [
    {
     "name": "stdout",
     "output_type": "stream",
     "text": [
      "[1.0, -0.13707783890401884, 0.003131722319766023, -2.861931517606714e-05, 1.401097812588669e-07]\n"
     ]
    }
   ],
   "source": [
    "# write a Jupyter notebook cell that calculates the cos(x) using 5 terms of a Taylor Series\n",
    "\n",
    "import math\n",
    "\n",
    "t_lst = []\n",
    "for n in range(5):\n",
    "    t_term = (-1)**n * ((30*math.pi/180)**(2*n) / math.factorial(2*n))\n",
    "    t_lst.append(t_term)\n",
    "print(t_lst)"
   ]
  },
  {
   "cell_type": "code",
   "execution_count": 2,
   "metadata": {},
   "outputs": [
    {
     "name": "stdout",
     "output_type": "stream",
     "text": [
      "Using Python math module the cos of 30 degrees is:  0.8660254037844387\n"
     ]
    },
    {
     "data": {
      "text/plain": [
       "0.8660254042103523"
      ]
     },
     "execution_count": 2,
     "metadata": {},
     "output_type": "execute_result"
    }
   ],
   "source": [
    "# compare to Python's math function to find the cos of 30*math.pi/180\n",
    "m_cos = math.cos(30*math.pi/180)\n",
    "print('Using Python math module the cos of 30 degrees is: ',m_cos)\n",
    "t_cos = sum(t_lst)\n",
    "t_cos"
   ]
  },
  {
   "cell_type": "code",
   "execution_count": 3,
   "metadata": {},
   "outputs": [],
   "source": [
    "# write a function that calculates the cos of an angle using the taylor series approximation\n",
    "import math\n",
    "\n",
    "def taylor_cos(x,num_t=5):   #x is the number we find the cos of in degrees, n is the number of terms in the taylor series, default n=5\n",
    "    t_lst = []\n",
    "    #x = x*180/math.pi\n",
    "    for n in range(num_t):\n",
    "        t_term = ( (-1)**n ) * ( (x**(2*n)) / (math.factorial(2*n)) )\n",
    "        t_lst.append(t_term)\n",
    "    \n",
    "    return sum(t_lst)"
   ]
  },
  {
   "cell_type": "code",
   "execution_count": 4,
   "metadata": {},
   "outputs": [
    {
     "data": {
      "text/plain": [
       "0.8660254042103523"
      ]
     },
     "execution_count": 4,
     "metadata": {},
     "output_type": "execute_result"
    }
   ],
   "source": [
    "# run the taylor_cos() function to find cosine of 30 degrees\n",
    "# with 5 terms, which is the default, so it does not need to be specified\n",
    "a_rad = math.radians(30)  # convert 30 degrees into radians\n",
    "taylor_cos(a_rad)"
   ]
  },
  {
   "cell_type": "code",
   "execution_count": 5,
   "metadata": {},
   "outputs": [
    {
     "data": {
      "text/plain": [
       "0.8660254037844387"
      ]
     },
     "execution_count": 5,
     "metadata": {},
     "output_type": "execute_result"
    }
   ],
   "source": [
    "# compare to Python's math.cos() function\n",
    "a_rad = math.radians(30) # convert 30 degrees into radians\n",
    "math.cos(a_rad)"
   ]
  },
  {
   "cell_type": "code",
   "execution_count": 6,
   "metadata": {},
   "outputs": [
    {
     "name": "stdout",
     "output_type": "stream",
     "text": [
      "With 1 terms, The difference between math.cos() and taylor_cos() is: 0.1339745962155613\n",
      "With 2 terms, The difference between math.cos() and taylor_cos() is: 0.0031032426884575193\n",
      "With 3 terms, The difference between math.cos() and taylor_cos() is: 2.847963130847564e-05\n",
      "With 4 terms, The difference between math.cos() and taylor_cos() is: 1.3968386758378415e-07\n",
      "With 5 terms, The difference between math.cos() and taylor_cos() is: 4.259136376916217e-10\n",
      "With 6 terms, The difference between math.cos() and taylor_cos() is: 8.851808175336373e-13\n",
      "With 7 terms, The difference between math.cos() and taylor_cos() is: 1.2212453270876722e-15\n",
      "With 8 terms, The difference between math.cos() and taylor_cos() is: 1.1102230246251565e-16\n",
      "With 9 terms, The difference between math.cos() and taylor_cos() is: 1.1102230246251565e-16\n",
      "With 10 terms, The difference between math.cos() and taylor_cos() is: 1.1102230246251565e-16\n",
      "With 11 terms, The difference between math.cos() and taylor_cos() is: 1.1102230246251565e-16\n",
      "With 12 terms, The difference between math.cos() and taylor_cos() is: 1.1102230246251565e-16\n",
      "With 13 terms, The difference between math.cos() and taylor_cos() is: 1.1102230246251565e-16\n",
      "With 14 terms, The difference between math.cos() and taylor_cos() is: 1.1102230246251565e-16\n",
      "With 15 terms, The difference between math.cos() and taylor_cos() is: 1.1102230246251565e-16\n",
      "With 16 terms, The difference between math.cos() and taylor_cos() is: 1.1102230246251565e-16\n",
      "With 17 terms, The difference between math.cos() and taylor_cos() is: 1.1102230246251565e-16\n",
      "With 18 terms, The difference between math.cos() and taylor_cos() is: 1.1102230246251565e-16\n",
      "With 19 terms, The difference between math.cos() and taylor_cos() is: 1.1102230246251565e-16\n",
      "With 20 terms, The difference between math.cos() and taylor_cos() is: 1.1102230246251565e-16\n"
     ]
    }
   ],
   "source": [
    "# use a for loop to see how close our taylor_cos() function is to math.cos() when we continue to add terms\n",
    "for i in range(20):\n",
    "    a_rad = math.radians(30) # convert 30 degrees into radians\n",
    "    m_cos = math.cos(a_rad)\n",
    "    t_cos = taylor_cos(a_rad,i+1)\n",
    "    dif = abs(m_cos - t_cos)\n",
    "    print(f\"With {i+1} terms, The difference between math.cos() and taylor_cos() is: {dif}\")\n"
   ]
  },
  {
   "cell_type": "code",
   "execution_count": null,
   "metadata": {},
   "outputs": [],
   "source": []
  }
 ],
 "metadata": {
  "kernelspec": {
   "display_name": "Python 3",
   "language": "python",
   "name": "python3"
  },
  "language_info": {
   "codemirror_mode": {
    "name": "ipython",
    "version": 3
   },
   "file_extension": ".py",
   "mimetype": "text/x-python",
   "name": "python",
   "nbconvert_exporter": "python",
   "pygments_lexer": "ipython3",
   "version": "3.6.4"
  }
 },
 "nbformat": 4,
 "nbformat_minor": 2
}
