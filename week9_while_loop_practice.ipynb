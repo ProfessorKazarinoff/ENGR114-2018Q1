{
 "cells": [
  {
   "cell_type": "markdown",
   "metadata": {},
   "source": [
    "# Week 9 While Loop Practice"
   ]
  },
  {
   "cell_type": "markdown",
   "metadata": {},
   "source": [
    "## Build a script to calculate the value of an investment \n",
    "\n",
    " * given some initial investment amount\n",
    " * a set rate of return\n",
    " * calculate the number of years to be worth a given value"
   ]
  },
  {
   "cell_type": "code",
   "execution_count": 11,
   "metadata": {},
   "outputs": [
    {
     "name": "stdout",
     "output_type": "stream",
     "text": [
      "What is you initial investment (must be positive)?-1\n",
      "What is you initial investment (must be positive)?1\n",
      "How much total do you want to have saved (must be greater than initial investment)?1.50\n",
      "Initial investment = $1.0 after 4 years, your investment grew to $1.52 \n"
     ]
    }
   ],
   "source": [
    "# Ask the user for an initial investment, ensure a positive number is entered\n",
    "\n",
    "i_invest = -1\n",
    "\n",
    "while not i_invest>0:\n",
    "    i_invest_str = input('What is you initial investment (must be positive)?')\n",
    "    i_invest = float(i_invest_str)\n",
    "\n",
    "# Ask the user for how much they want to save, ensure the amount is larger than the initial investment\n",
    "\n",
    "i_total = i_invest-1\n",
    "\n",
    "while not i_total>i_invest:\n",
    "    i_total_str = input('How much total do you want to have saved (must be greater than initial investment)?')\n",
    "    i_total = float(i_total_str)\n",
    "    \n",
    "# Calcuate the value using a while loop, and break out of the while loop when the investment exceeds the amount the user wants to save\n",
    "\n",
    "rate = 0.11  # 11% rate of return\n",
    "\n",
    "c_value = i_invest   # start the user's balance at their initial investment\n",
    "n_years = 0\n",
    "while c_value < i_total:\n",
    "    interest = rate*c_value\n",
    "    f_value = c_value + interest\n",
    "    c_value = f_value\n",
    "    n_years = n_years + 1   #add 1 for each time we add intest to the investment\n",
    "\n",
    "#print(c_value)\n",
    "#print(n_years)\n",
    "\n",
    "# Print out how much was the initial investment how many years and what the total savings is\n",
    "\n",
    "print(f'Initial investment = ${round(i_invest,2)} after {n_years} years, your investment grew to ${round(c_value,2)} ')"
   ]
  },
  {
   "cell_type": "code",
   "execution_count": null,
   "metadata": {},
   "outputs": [],
   "source": []
  },
  {
   "cell_type": "code",
   "execution_count": null,
   "metadata": {},
   "outputs": [],
   "source": []
  },
  {
   "cell_type": "code",
   "execution_count": null,
   "metadata": {},
   "outputs": [],
   "source": []
  }
 ],
 "metadata": {
  "kernelspec": {
   "display_name": "Python 3",
   "language": "python",
   "name": "python3"
  },
  "language_info": {
   "codemirror_mode": {
    "name": "ipython",
    "version": 3
   },
   "file_extension": ".py",
   "mimetype": "text/x-python",
   "name": "python",
   "nbconvert_exporter": "python",
   "pygments_lexer": "ipython3",
   "version": "3.7.0"
  }
 },
 "nbformat": 4,
 "nbformat_minor": 2
}
