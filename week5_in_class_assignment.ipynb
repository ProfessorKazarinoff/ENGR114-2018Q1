{
 "cells": [
  {
   "cell_type": "markdown",
   "metadata": {},
   "source": [
    "# Week 5 In class assignment"
   ]
  },
  {
   "cell_type": "markdown",
   "metadata": {},
   "source": [
    "## create a script that converts a recipie from cups and teaspoons to milliliters"
   ]
  },
  {
   "cell_type": "markdown",
   "metadata": {},
   "source": [
    "### Recipe vanilla ice cream\n",
    "\n",
    " * 1 1/2 cups cream\n",
    " * 1 cup milk\n",
    " * 1/2 cup sugar\n",
    " * 1 teaspoon vanilla"
   ]
  },
  {
   "cell_type": "code",
   "execution_count": 1,
   "metadata": {},
   "outputs": [
    {
     "name": "stdout",
     "output_type": "stream",
     "text": [
      "mL of cream: 354.882\n",
      "mL of milk: 236.588\n",
      "mL of sugar: 118.294\n",
      "mL of vanilla: 7.39338\n"
     ]
    }
   ],
   "source": [
    "from cups_to_mls import c_to_ml       # from the file cups_to_mls.py import the function c_to_ml\n",
    "from teaspoons_to_mls import t_to_ml  # from the file teaspoons_to_mls.py import the function t_to_ml\n",
    "\n",
    "ml_cream = c_to_ml(1.5)\n",
    "ml_milk = c_to_ml(1)\n",
    "ml_sugar = c_to_ml(0.5)\n",
    "ml_vanilla = t_to_ml(1.5)\n",
    "\n",
    "print('mL of cream:', ml_cream)\n",
    "print('mL of milk:', ml_milk)\n",
    "print('mL of sugar:', ml_sugar)\n",
    "print('mL of vanilla:', ml_vanilla)"
   ]
  },
  {
   "cell_type": "code",
   "execution_count": null,
   "metadata": {},
   "outputs": [],
   "source": []
  }
 ],
 "metadata": {
  "kernelspec": {
   "display_name": "Python 3",
   "language": "python",
   "name": "python3"
  },
  "language_info": {
   "codemirror_mode": {
    "name": "ipython",
    "version": 3
   },
   "file_extension": ".py",
   "mimetype": "text/x-python",
   "name": "python",
   "nbconvert_exporter": "python",
   "pygments_lexer": "ipython3",
   "version": "3.6.4"
  }
 },
 "nbformat": 4,
 "nbformat_minor": 2
}
