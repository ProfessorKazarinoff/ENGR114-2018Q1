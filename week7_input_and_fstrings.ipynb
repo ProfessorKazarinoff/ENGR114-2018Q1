{
 "cells": [
  {
   "cell_type": "markdown",
   "metadata": {},
   "source": [
    "# Input and f-strings"
   ]
  },
  {
   "cell_type": "code",
   "execution_count": 3,
   "metadata": {},
   "outputs": [
    {
     "name": "stdout",
     "output_type": "stream",
     "text": [
      "Enter a number5\n",
      "The number 5 was chosen\n"
     ]
    }
   ],
   "source": [
    "num = input('Enter a number')\n",
    "print('The number',num,'was chosen')"
   ]
  },
  {
   "cell_type": "code",
   "execution_count": 5,
   "metadata": {},
   "outputs": [
    {
     "name": "stdout",
     "output_type": "stream",
     "text": [
      "Enter a number5\n",
      "The number 5 was chosen\n"
     ]
    }
   ],
   "source": [
    "# use an f-string to insert a number into a string\n",
    "num = input('Enter a number')\n",
    "print(f'The number {num} was chosen')  # add a lowercase f\"  \" before the string, to create an f-string, insert variables inside curely brackets { }"
   ]
  },
  {
   "cell_type": "code",
   "execution_count": 8,
   "metadata": {},
   "outputs": [
    {
     "name": "stdout",
     "output_type": "stream",
     "text": [
      "Enter a number5\n",
      "The number 5 was chosen and your number plus 2 equals 7.0\n"
     ]
    }
   ],
   "source": [
    "num = input('Enter a number')\n",
    "num_flt = float(num)\n",
    "print(f'The number {num} was chosen and your number plus 2 equals {num_flt + 2}') #inserting an expression into an f-string"
   ]
  },
  {
   "cell_type": "code",
   "execution_count": 10,
   "metadata": {},
   "outputs": [],
   "source": [
    "# Dyamically create axis label using f-strings\n",
    "\n",
    "import numpy as np\n",
    "import matplotlib.pyplot as plt\n",
    "%matplotlib inline"
   ]
  },
  {
   "cell_type": "code",
   "execution_count": 12,
   "metadata": {},
   "outputs": [
    {
     "data": {
      "text/plain": [
       "array([ 2.54518241, -0.56847719, -1.48023964, -0.09370378,  1.08538808,\n",
       "       -0.77166249, -0.65660527, -0.69053097, -1.27136193, -0.68795821,\n",
       "       -1.82474939, -1.52166526, -1.29319592,  0.06905197, -0.57678284,\n",
       "       -2.3144844 , -1.76482273,  0.15887272,  0.96150366,  0.20265068])"
      ]
     },
     "execution_count": 12,
     "metadata": {},
     "output_type": "execute_result"
    }
   ],
   "source": [
    "data = np.random.randn(20)\n",
    "data"
   ]
  },
  {
   "cell_type": "code",
   "execution_count": 20,
   "metadata": {},
   "outputs": [
    {
     "name": "stdout",
     "output_type": "stream",
     "text": [
      "What country are you in?Costa Rica\n",
      "How many data points800\n"
     ]
    },
    {
     "data": {
      "image/png": "[encoded data removed]",
      "text/plain": [
       "<Figure size 432x288 with 1 Axes>"
      ]
     },
     "metadata": {
      "needs_background": "light"
     },
     "output_type": "display_data"
    }
   ],
   "source": [
    "country = input('What country are you in?')\n",
    "num_data_pts = input('How many data points')\n",
    "#axis_label = (f\"Temperature ({unit})\")\n",
    "\n",
    "if country == 'USA':\n",
    "    unit = 'F'\n",
    "else:\n",
    "    unit = 'C'\n",
    "\n",
    "fig, ax = plt.subplots()\n",
    "ax.plot(data)\n",
    "ax.set_ylabel(f'Temperature {unit}')\n",
    "ax.set_title(f'You chose {num_data_pts} for the plot')\n",
    "plt.show()"
   ]
  },
  {
   "cell_type": "code",
   "execution_count": null,
   "metadata": {},
   "outputs": [],
   "source": [
    "# https://api.thingspeak.com/channels/707691/fields/1.json?results=2\n",
    "\n",
    "# Ask the user for a number of data points, and use an f-string to build the url and that number of data points"
   ]
  },
  {
   "cell_type": "code",
   "execution_count": 25,
   "metadata": {},
   "outputs": [
    {
     "name": "stdout",
     "output_type": "stream",
     "text": [
      "How many data points do you want to pull down from ThingSpeak?2\n",
      "0\n"
     ]
    }
   ],
   "source": [
    "import requests\n",
    "\n",
    "num_data_pts = input('How many data points do you want to pull down from ThingSpeak?')\n",
    "# build a url using f-strings\n",
    "url = f'https://api.thingspeak.com/channels/707691/fields/1.json?results={num_data_pts}' #insert the value of the variable num_data_pts into the string\n",
    "\n",
    "r = requests.get(url)\n",
    "json_data = r.json()\n",
    "data = json_data['feeds'][0]['field1']\n",
    "print(data)"
   ]
  },
  {
   "cell_type": "code",
   "execution_count": null,
   "metadata": {},
   "outputs": [],
   "source": []
  },
  {
   "cell_type": "code",
   "execution_count": null,
   "metadata": {},
   "outputs": [],
   "source": []
  },
  {
   "cell_type": "code",
   "execution_count": null,
   "metadata": {},
   "outputs": [],
   "source": []
  }
 ],
 "metadata": {
  "kernelspec": {
   "display_name": "Python 3",
   "language": "python",
   "name": "python3"
  },
  "language_info": {
   "codemirror_mode": {
    "name": "ipython",
    "version": 3
   },
   "file_extension": ".py",
   "mimetype": "text/x-python",
   "name": "python",
   "nbconvert_exporter": "python",
   "pygments_lexer": "ipython3",
   "version": "3.6.8"
  }
 },
 "nbformat": 4,
 "nbformat_minor": 2
}
