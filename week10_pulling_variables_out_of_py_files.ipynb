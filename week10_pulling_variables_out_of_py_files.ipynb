{
 "cells": [
  {
   "cell_type": "markdown",
   "metadata": {},
   "source": [
    "# Pull a variable out of a .py-file"
   ]
  },
  {
   "cell_type": "code",
   "execution_count": 2,
   "metadata": {},
   "outputs": [
    {
     "name": "stdout",
     "output_type": "stream",
     "text": [
      " Volume in drive C is Windows\n",
      " Volume Serial Number is 44E5-0D98\n",
      "\n",
      " Directory of C:\\Users\\student\\Desktop\n",
      "\n",
      "03/12/2019  03:11 PM    <DIR>          .\n",
      "03/12/2019  03:11 PM    <DIR>          ..\n",
      "03/12/2019  03:05 PM    <DIR>          .ipynb_checkpoints\n",
      "03/12/2019  03:12 PM    <DIR>          __pycache__\n",
      "03/12/2019  03:11 PM               494 dice_funcs.py\n",
      "05/13/2016  01:33 PM               210 MSDS Online.url\n",
      "03/12/2019  03:05 PM                85 passwords.py\n",
      "06/10/2015  02:29 PM    <DIR>          Safety Information\n",
      "03/12/2019  03:03 PM             4,617 week10_calling_functions_review.ipynb\n",
      "03/12/2019  02:53 PM             5,346 week10_exam2_review.ipynb\n",
      "03/12/2019  03:11 PM             4,300 week10_pulling_variables_out_of_py_files.ipynb\n",
      "               6 File(s)         15,052 bytes\n",
      "               5 Dir(s)  299,193,913,344 bytes free\n"
     ]
    }
   ],
   "source": [
    "%ls"
   ]
  },
  {
   "cell_type": "code",
   "execution_count": 3,
   "metadata": {},
   "outputs": [],
   "source": [
    "import passwords"
   ]
  },
  {
   "cell_type": "code",
   "execution_count": 4,
   "metadata": {},
   "outputs": [
    {
     "data": {
      "text/plain": [
       "['API_KEY',\n",
       " 'PASSWORD',\n",
       " '__builtins__',\n",
       " '__cached__',\n",
       " '__doc__',\n",
       " '__file__',\n",
       " '__loader__',\n",
       " '__name__',\n",
       " '__package__',\n",
       " '__spec__']"
      ]
     },
     "execution_count": 4,
     "metadata": {},
     "output_type": "execute_result"
    }
   ],
   "source": [
    "dir(passwords)"
   ]
  },
  {
   "cell_type": "code",
   "execution_count": 5,
   "metadata": {},
   "outputs": [
    {
     "name": "stdout",
     "output_type": "stream",
     "text": [
      "Your API key is secret API Key ABC\n",
      "Your password is my secret password 1234\n"
     ]
    }
   ],
   "source": [
    "api_key_value = passwords.API_KEY\n",
    "password_value = passwords.PASSWORD\n",
    "print(f'Your API key is {api_key_value}')\n",
    "print(f'Your password is {password_value}')"
   ]
  },
  {
   "cell_type": "code",
   "execution_count": 6,
   "metadata": {},
   "outputs": [
    {
     "data": {
      "text/plain": [
       "'variable value defined inside .py-file'"
      ]
     },
     "execution_count": 6,
     "metadata": {},
     "output_type": "execute_result"
    }
   ],
   "source": [
    "import dice_funcs\n",
    "#dice_funcs.n\n",
    "#dice_funcs.dice_roll_lst\n",
    "dice_funcs.my_variable"
   ]
  },
  {
   "cell_type": "code",
   "execution_count": null,
   "metadata": {},
   "outputs": [],
   "source": []
  }
 ],
 "metadata": {
  "kernelspec": {
   "display_name": "Python 3",
   "language": "python",
   "name": "python3"
  },
  "language_info": {
   "codemirror_mode": {
    "name": "ipython",
    "version": 3
   },
   "file_extension": ".py",
   "mimetype": "text/x-python",
   "name": "python",
   "nbconvert_exporter": "python",
   "pygments_lexer": "ipython3",
   "version": "3.7.0"
  }
 },
 "nbformat": 4,
 "nbformat_minor": 2
}
