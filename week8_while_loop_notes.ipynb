{
 "cells": [
  {
   "cell_type": "markdown",
   "metadata": {},
   "source": [
    "# While loops in Python"
   ]
  },
  {
   "cell_type": "markdown",
   "metadata": {},
   "source": [
    "### The general syntax for a while a while loop in Python is:\n",
    "\n",
    "```\n",
    "while <logical condition>:\n",
    "    <code>\n",
    "```\n",
    "\n",
    "```while``` is a keyword, the ```<loglical condition>``` is an expression that can be evaluated as ```True``` or ```False```. The colon ```:``` is required and any ```<code>``` that runs as part of the while loop is indented (typically 4 spaces)."
   ]
  },
  {
   "cell_type": "code",
   "execution_count": 1,
   "metadata": {},
   "outputs": [
    {
     "name": "stdout",
     "output_type": "stream",
     "text": [
      "2\n",
      "3\n",
      "4\n"
     ]
    }
   ],
   "source": [
    "# an example while loop\n",
    "n = 1\n",
    "while n<4:\n",
    "    n = n+1\n",
    "    print(n)\n",
    "    "
   ]
  },
  {
   "cell_type": "code",
   "execution_count": 3,
   "metadata": {},
   "outputs": [
    {
     "name": "stdout",
     "output_type": "stream",
     "text": [
      "yes\n",
      "yes or no?yes\n",
      "yes\n",
      "yes or no?yes\n",
      "yes\n",
      "yes or no?yes\n",
      "yes\n",
      "yes or no?no\n",
      "you typed no\n"
     ]
    }
   ],
   "source": [
    "str = 'yes'\n",
    "while str=='yes':\n",
    "    print(str)\n",
    "    str = input('yes or no?')\n",
    "print('you typed no')"
   ]
  },
  {
   "cell_type": "code",
   "execution_count": 9,
   "metadata": {},
   "outputs": [
    {
     "name": "stdout",
     "output_type": "stream",
     "text": [
      "Enter a positive number: -1\n",
      "You entered a positive number\n"
     ]
    }
   ],
   "source": [
    "# ask the user to enter a positive number, keep asking until they do\n",
    "\n",
    "# start with invalid input\n",
    "n = 1\n",
    "\n",
    "# while not (what i want):\n",
    "while not (n>0):\n",
    "    # ask for the user's input\n",
    "    n = input('Enter a positive number: ')\n",
    "    n = float(n)\n",
    "print('You entered a positive number')"
   ]
  },
  {
   "cell_type": "code",
   "execution_count": 13,
   "metadata": {},
   "outputs": [
    {
     "name": "stdout",
     "output_type": "stream",
     "text": [
      "Enter a whole number: 0.5\n",
      "Enter a whole number: .1\n",
      "Enter a whole number: 1e-9\n",
      "Enter a whole number: 5\n",
      "You entered a whole number\n"
     ]
    }
   ],
   "source": [
    "# ask the user for a whole number ex: -1, 0, 1, 2\n",
    "\n",
    "# start with invalid input\n",
    "n = 0.5\n",
    "\n",
    "# while not (what i want):\n",
    "while not (n % 1 == 0):\n",
    "    n = input('Enter a whole number: ')\n",
    "    n = float(n)\n",
    "print('You entered a whole number')"
   ]
  },
  {
   "cell_type": "code",
   "execution_count": 12,
   "metadata": {},
   "outputs": [
    {
     "data": {
      "text/plain": [
       "0.3999999999999999"
      ]
     },
     "execution_count": 12,
     "metadata": {},
     "output_type": "execute_result"
    }
   ],
   "source": [
    "1.4 % 1"
   ]
  },
  {
   "cell_type": "code",
   "execution_count": 18,
   "metadata": {},
   "outputs": [
    {
     "name": "stdout",
     "output_type": "stream",
     "text": [
      "Enter red, green or blue: yellow\n",
      "Enter red, green or blue: pink\n",
      "Enter red, green or blue: white\n",
      "Enter red, green or blue: red\n",
      "You entered red\n"
     ]
    }
   ],
   "source": [
    "# Give the user 3 options, and continue asking until they enter one of those 3 options.\n",
    "\n",
    "# ask the user to input red, green or blue, but nothing else is allowed.\n",
    "\n",
    "color = 'yellow'\n",
    "\n",
    "while not (color in ['red','green','blue']):\n",
    "    color = input('Enter red, green or blue: ')\n",
    "print(f'You entered {color}')\n"
   ]
  },
  {
   "cell_type": "code",
   "execution_count": 17,
   "metadata": {},
   "outputs": [
    {
     "data": {
      "text/plain": [
       "False"
      ]
     },
     "execution_count": 17,
     "metadata": {},
     "output_type": "execute_result"
    }
   ],
   "source": [
    "'yellow' in ['red','green','blue']"
   ]
  },
  {
   "cell_type": "code",
   "execution_count": null,
   "metadata": {},
   "outputs": [],
   "source": []
  }
 ],
 "metadata": {
  "kernelspec": {
   "display_name": "Python 3",
   "language": "python",
   "name": "python3"
  },
  "language_info": {
   "codemirror_mode": {
    "name": "ipython",
    "version": 3
   },
   "file_extension": ".py",
   "mimetype": "text/x-python",
   "name": "python",
   "nbconvert_exporter": "python",
   "pygments_lexer": "ipython3",
   "version": "3.6.4"
  }
 },
 "nbformat": 4,
 "nbformat_minor": 2
}
