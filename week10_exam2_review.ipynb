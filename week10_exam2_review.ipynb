{
 "cells": [
  {
   "cell_type": "markdown",
   "metadata": {},
   "source": [
    "# Week 10 Exam 2 Review"
   ]
  },
  {
   "cell_type": "markdown",
   "metadata": {},
   "source": [
    "## Build a program that asks a user for a number of data points and a color, then produces a plot with that number of data points and that colored line"
   ]
  },
  {
   "cell_type": "code",
   "execution_count": 8,
   "metadata": {},
   "outputs": [
    {
     "name": "stdout",
     "output_type": "stream",
     "text": [
      "Enter a number of data points between 1 and 10010\n",
      "What color do you want your line (red, blue or green only)?red\n"
     ]
    },
    {
     "data": {
      "image/png": "[encoded data removed]",
      "text/plain": [
       "<Figure size 432x288 with 1 Axes>"
      ]
     },
     "metadata": {
      "needs_background": "light"
     },
     "output_type": "display_data"
    }
   ],
   "source": [
    "# Imports\n",
    "import numpy as np\n",
    "import matplotlib.pyplot as plt\n",
    "%matplotlib inline\n",
    "\n",
    "# Ask the user for a number of data points between 1 and 100\n",
    "\n",
    "n = -1   # invalid input\n",
    "while not (n>=1 and n<=100):\n",
    "    n_str = input('Enter a number of data points between 1 and 100')   # input() function outputs a string\n",
    "    n = int(n_str)\n",
    "\n",
    "# Ask the user for a color: red, blue, or green only\n",
    "valid_colors = ['red','blue','green']\n",
    "color = 'yellow'\n",
    "#while not(color in valid_colors):\n",
    "while not(color=='red' or color=='blue' or color=='green'):\n",
    "    color = input('What color do you want your line (red, blue or green only)?')\n",
    "\n",
    "# Covert the color to a Matplotlib line color type\n",
    "# Matplotlib accepts 'r' or red, 'b' for blue, 'g' for green\n",
    "if color == 'red':\n",
    "    m_color = 'r'\n",
    "elif color == 'blue':\n",
    "    m_color = 'b'\n",
    "elif color == 'green':\n",
    "    m_color = 'g'\n",
    "\n",
    "# Create an array of random data points\n",
    "data = np.random.randn(n)\n",
    "data\n",
    "\n",
    "# Build the plot and include a dynamic title\n",
    "title_str = f'Plot of {n} random data points'\n",
    "\n",
    "# create fig and ax objects\n",
    "fig, ax = plt.subplots()\n",
    "\n",
    "# plot the data\n",
    "ax.plot(data, m_color)\n",
    "\n",
    "# customize the plot, axis labels and title\n",
    "ax.set_xlabel('Data Point Number')\n",
    "ax.set_ylabel('Data Point Value')\n",
    "ax.set_title(title_str)\n",
    "\n",
    "# show the plot\n",
    "plt.show()"
   ]
  },
  {
   "cell_type": "markdown",
   "metadata": {},
   "source": [
    "## Build a script that asks a user to choose a number of dice to roll and then prints out the total roll value, the numbers on the rolled dice all added together. Complete this script with a fuction."
   ]
  },
  {
   "cell_type": "code",
   "execution_count": 9,
   "metadata": {},
   "outputs": [],
   "source": [
    "# imports\n",
    "import random\n",
    "\n",
    "# run a dice_roll() function to produce list or array of dice roll values\n",
    "def dice_roll(n):\n",
    "    dice_lst = []\n",
    "    for i in range(n):\n",
    "        roll = random.randint(1,6)\n",
    "        dice_lst.append(roll)\n",
    "    \n",
    "    return dice_lst\n",
    "\n",
    "# run a dice_add() function to add the roll values together\n",
    "def dice_add(dice_roll_lst):\n",
    "    output = sum(dice_roll_lst)\n",
    "    \n",
    "    return output\n",
    "\n",
    "# add the values of the dice roll together to calculate a total roll value"
   ]
  },
  {
   "cell_type": "code",
   "execution_count": 10,
   "metadata": {},
   "outputs": [
    {
     "name": "stdout",
     "output_type": "stream",
     "text": [
      "[3, 6, 4]\n"
     ]
    },
    {
     "data": {
      "text/plain": [
       "13"
      ]
     },
     "execution_count": 10,
     "metadata": {},
     "output_type": "execute_result"
    }
   ],
   "source": [
    "roll_lst = dice_roll(3)\n",
    "print(roll_lst)\n",
    "sum_of_roll = dice_add(roll_lst)\n",
    "sum_of_roll"
   ]
  },
  {
   "cell_type": "code",
   "execution_count": 11,
   "metadata": {},
   "outputs": [
    {
     "name": "stdout",
     "output_type": "stream",
     "text": [
      "How many dice do you want to roll? (between 1 and 5 dice only)?3\n",
      "Your dice roll is below:\n",
      "[6, 2, 1]\n",
      "Your dice roll total is 9\n"
     ]
    }
   ],
   "source": [
    "# Ask a user for how many dice they want to roll\n",
    "# limit the user to between 1 and 5 dice\n",
    "dice_n = 6\n",
    "while not (dice_n>=1 and dice_n<=5):\n",
    "    dice_str = input('How many dice do you want to roll? (between 1 and 5 dice only)?')\n",
    "    dice_n = int(dice_str)\n",
    "\n",
    "# roll the dice, print out the values or the dice\n",
    "dice_roll_lst = dice_roll(dice_n)\n",
    "print('Your dice roll is below:')\n",
    "print(dice_roll_lst)\n",
    "\n",
    "# calculate the sum and print out the sum\n",
    "sum_of_dice = dice_add(dice_roll_lst)\n",
    "print(f'Your dice roll total is {sum_of_dice}')"
   ]
  },
  {
   "cell_type": "code",
   "execution_count": null,
   "metadata": {},
   "outputs": [],
   "source": []
  }
 ],
 "metadata": {
  "kernelspec": {
   "display_name": "Python 3",
   "language": "python",
   "name": "python3"
  },
  "language_info": {
   "codemirror_mode": {
    "name": "ipython",
    "version": 3
   },
   "file_extension": ".py",
   "mimetype": "text/x-python",
   "name": "python",
   "nbconvert_exporter": "python",
   "pygments_lexer": "ipython3",
   "version": "3.7.0"
  }
 },
 "nbformat": 4,
 "nbformat_minor": 2
}
