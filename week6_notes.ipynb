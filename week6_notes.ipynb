{
 "cells": [
  {
   "cell_type": "markdown",
   "metadata": {},
   "source": [
    "# Week 6 notes"
   ]
  },
  {
   "cell_type": "markdown",
   "metadata": {},
   "source": [
    "## Selection statements (if-statements)"
   ]
  },
  {
   "cell_type": "code",
   "execution_count": null,
   "metadata": {},
   "outputs": [],
   "source": [
    "# temp = field 1, humid = field 2\n",
    "\n",
    "user_input = input('Type temp or humid or rain:')\n",
    "\n",
    "if user_input == 'temp':\n",
    "    print(1)\n",
    "    \n",
    "elif user_input == 'humid':\n",
    "    print(2)\n",
    "\n",
    "elif user_input == 'rain':\n",
    "    print(3)\n",
    "    \n",
    "else:\n",
    "    print('You did not enter temp or humid')\n",
    "    "
   ]
  },
  {
   "cell_type": "markdown",
   "metadata": {},
   "source": [
    "## use a selection statement to compare numbers"
   ]
  },
  {
   "cell_type": "code",
   "execution_count": null,
   "metadata": {},
   "outputs": [],
   "source": [
    "# ask for for their quiz grade if they earn a 90 or above print You earn an A, otherwise print, keep working hard\n",
    "\n",
    "grade = input('What did you earn on your quiz?')\n",
    "grade = float(grade)\n",
    "\n",
    "if grade >= 90:\n",
    "    print('You earned an A')\n",
    "else:\n",
    "    print('keep working hard')\n"
   ]
  },
  {
   "cell_type": "markdown",
   "metadata": {},
   "source": [
    "## use a selection statement to run a calculation"
   ]
  },
  {
   "cell_type": "code",
   "execution_count": 13,
   "metadata": {},
   "outputs": [
    {
     "name": "stdout",
     "output_type": "stream",
     "text": [
      "What is the mass?5\n",
      "What is the volume0\n",
      "can not have a negative or zero volume\n",
      "All done!\n"
     ]
    }
   ],
   "source": [
    "# ask the user for a mass and volume, print back to the user the calculated density\n",
    "\n",
    "m = input('What is the mass?')\n",
    "v = input('What is the volume')\n",
    "m = float(m)\n",
    "v = float(v)\n",
    "if v<=0:\n",
    "    print('can not have a negative or zero volume')\n",
    "else:\n",
    "    d = m/v\n",
    "    print('The density is:',d)\n",
    "    print(d)\n",
    "\n",
    "print('All done!')"
   ]
  },
  {
   "cell_type": "markdown",
   "metadata": {},
   "source": [
    "## Web API's"
   ]
  },
  {
   "cell_type": "code",
   "execution_count": null,
   "metadata": {},
   "outputs": [],
   "source": [
    "# url: https://api.thingspeak.com/channels/10/fields/2.json?results=20\n",
    "\n",
    "n = input('How many data points?:')\n",
    "field_num = input('Which field number?')\n",
    "\n",
    "part1 = 'https://api.thingspeak.com/channels/'\n",
    "part2 = '10'\n",
    "part3 = '/fields/'\n",
    "part4 = field_num\n",
    "part5 ='.csv?results='\n",
    "part6 = n\n",
    "\n",
    "url = part1+part2+part3+part4+part5+part6\n",
    "url"
   ]
  },
  {
   "cell_type": "code",
   "execution_count": null,
   "metadata": {},
   "outputs": [],
   "source": [
    "import pandas as pd\n",
    "df = pd.read_csv(url)\n",
    "df.tail()"
   ]
  },
  {
   "cell_type": "markdown",
   "metadata": {},
   "source": [
    "## Read in a csv data file and caculate some statistics"
   ]
  },
  {
   "cell_type": "code",
   "execution_count": 14,
   "metadata": {},
   "outputs": [
    {
     "name": "stdout",
     "output_type": "stream",
     "text": [
      " Volume in drive C is Windows\n",
      " Volume Serial Number is 44E5-0D98\n",
      "\n",
      " Directory of C:\\Users\\student\\Desktop\n",
      "\n",
      "02/12/2019  03:11 PM    <DIR>          .\n",
      "02/12/2019  03:11 PM    <DIR>          ..\n",
      "02/12/2019  02:22 PM    <DIR>          .ipynb_checkpoints\n",
      "02/12/2019  03:11 PM               300 grade_data.csv\n",
      "05/13/2016  12:33 PM               210 MSDS Online.url\n",
      "06/10/2015  01:29 PM    <DIR>          Safety Information\n",
      "02/12/2019  03:01 PM             3,836 week6_notes.ipynb\n",
      "               3 File(s)          4,346 bytes\n",
      "               4 Dir(s)  299,238,313,984 bytes free\n"
     ]
    }
   ],
   "source": [
    "%ls"
   ]
  },
  {
   "cell_type": "code",
   "execution_count": 35,
   "metadata": {},
   "outputs": [
    {
     "name": "stdout",
     "output_type": "stream",
     "text": [
      "The average grade is: 80.45\n",
      "The median grade is: 81.0\n",
      "The most often grade is: 79\n"
     ]
    }
   ],
   "source": [
    "# imports (pandas, numpy)\n",
    "\n",
    "import numpy as np\n",
    "import pandas as pd\n",
    "from scipy import stats\n",
    "\n",
    "# read in the csv datafile into a pandas dataframe\n",
    "\n",
    "df = pd.read_csv('grade_data.csv', header=None)   #don't want the first value in the csv file to be be the col header\n",
    "grades = np.array(df)\n",
    "\n",
    "# calculate the mean, median, mode\n",
    "\n",
    "mean = np.mean(grades)\n",
    "median = np.median(grades)\n",
    "mode = stats.mode(grades)\n",
    "\n",
    "# print out to the user what then mean, median and mode of the grade data is\n",
    "\n",
    "print('The average grade is:',mean)\n",
    "print('The median grade is:',median)\n",
    "print('The most often grade is:',mode[0][0][0])"
   ]
  },
  {
   "cell_type": "markdown",
   "metadata": {},
   "source": [
    "## Plot a stress strain curve and find the tensile strength (max of stress) and the strain value where the tensile strength occurs"
   ]
  },
  {
   "cell_type": "code",
   "execution_count": 36,
   "metadata": {},
   "outputs": [],
   "source": [
    "# imports\n",
    "\n",
    "import numpy as np\n",
    "import pandas as pd\n",
    "import matplotlib.pyplot as plt\n",
    "%matplotlib inline"
   ]
  },
  {
   "cell_type": "code",
   "execution_count": 41,
   "metadata": {},
   "outputs": [],
   "source": [
    "# bring in the excel file\n",
    "# %ls   # look in same folder as the jupyter notebook is running in to see if the excel file is present\n",
    "df = pd.read_excel('stress-strain.xlsx', header=None)\n",
    "data = np.array(df)"
   ]
  },
  {
   "cell_type": "code",
   "execution_count": 43,
   "metadata": {},
   "outputs": [
    {
     "data": {
      "image/png": "[encoded data removed]",
      "text/plain": [
       "<Figure size 432x288 with 1 Axes>"
      ]
     },
     "metadata": {
      "needs_background": "light"
     },
     "output_type": "display_data"
    }
   ],
   "source": [
    "# build a plot\n",
    "\n",
    "# get the data\n",
    "stress = data[:,1]  # the stress values are in the 2nd column, the col index 1\n",
    "strain = data[:,2]  # the strain values are in the 3rd column, the col index 2\n",
    "\n",
    "# plot the data\n",
    "fig, ax = plt.subplots()  \n",
    "ax.plot(strain,stress)        #strain on the x-axis, stress on the y-axis\n",
    "\n",
    "# customize\n",
    "ax.set_xlabel('strain (%)')\n",
    "ax.set_ylabel('stress (ksi)')\n",
    "ax.set_title('Stress-Strain Curve')\n",
    "# show\n",
    "plt.show()"
   ]
  },
  {
   "cell_type": "code",
   "execution_count": 44,
   "metadata": {},
   "outputs": [
    {
     "data": {
      "text/plain": [
       "20979.50083"
      ]
     },
     "execution_count": 44,
     "metadata": {},
     "output_type": "execute_result"
    }
   ],
   "source": [
    "# calculate the tensile strength(max stress)\n",
    "t_strength = np.max(stress)\n",
    "#t_strength"
   ]
  },
  {
   "cell_type": "code",
   "execution_count": 50,
   "metadata": {},
   "outputs": [
    {
     "data": {
      "text/plain": [
       "18.2033418"
      ]
     },
     "execution_count": 50,
     "metadata": {},
     "output_type": "execute_result"
    }
   ],
   "source": [
    "# calculate the strain value where the tensile strength occurs\n",
    "#using a boolean mask\n",
    "mask = data[:,1]==t_strength\n",
    "strain_at_t_strength = data[mask,2]\n",
    "\n",
    "#using np.where\n",
    "loc = np.where(data[:,1]==t_strength)\n",
    "strain_at_t_strength = float(data[loc,2])\n",
    "strain_at_t_strength      "
   ]
  },
  {
   "cell_type": "code",
   "execution_count": 51,
   "metadata": {},
   "outputs": [
    {
     "name": "stdout",
     "output_type": "stream",
     "text": [
      "The tensile strength is: 20979.50083\n",
      "The strain at the tensile strength is: 18.2033418\n"
     ]
    }
   ],
   "source": [
    "# print back to the user the tensile strength and the strain value were the tensile strength occurs\n",
    "\n",
    "print('The tensile strength is:',t_strength)\n",
    "print('The strain at the tensile strength is:',strain_at_t_strength)"
   ]
  },
  {
   "cell_type": "code",
   "execution_count": null,
   "metadata": {},
   "outputs": [],
   "source": []
  }
 ],
 "metadata": {
  "kernelspec": {
   "display_name": "Python 3",
   "language": "python",
   "name": "python3"
  },
  "language_info": {
   "codemirror_mode": {
    "name": "ipython",
    "version": 3
   },
   "file_extension": ".py",
   "mimetype": "text/x-python",
   "name": "python",
   "nbconvert_exporter": "python",
   "pygments_lexer": "ipython3",
   "version": "3.7.4"
  }
 },
 "nbformat": 4,
 "nbformat_minor": 2
}
