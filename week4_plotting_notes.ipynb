{
 "cells": [
  {
   "cell_type": "markdown",
   "metadata": {},
   "source": [
    "# Week 4 Plotting Notes"
   ]
  },
  {
   "cell_type": "code",
   "execution_count": 2,
   "metadata": {},
   "outputs": [],
   "source": [
    "## Build a plot from an external data file"
   ]
  },
  {
   "cell_type": "code",
   "execution_count": 3,
   "metadata": {},
   "outputs": [],
   "source": [
    "import numpy as np\n",
    "import pandas as pd\n",
    "import matplotlib.pyplot as plt\n",
    "%matplotlib inline"
   ]
  },
  {
   "cell_type": "code",
   "execution_count": 4,
   "metadata": {},
   "outputs": [
    {
     "name": "stdout",
     "output_type": "stream",
     "text": [
      " Volume in drive C is Windows\n",
      " Volume Serial Number is A048-4C53\n",
      "\n",
      " Directory of C:\\Users\\peter.kazarinoff\\Documents\\ENGR 114 Intro to Progaming\\Class_Notes\\ENGR114-Class_Notes-Ch05-Plotting\n",
      "\n",
      "01/29/2019  04:12 PM    <DIR>          .\n",
      "01/29/2019  04:12 PM    <DIR>          ..\n",
      "01/29/2019  04:12 PM    <DIR>          .ipynb_checkpoints\n",
      "02/02/2017  09:08 AM           101,065 ENGR114-Class_Notes-Ch05.pptx\n",
      "01/29/2019  08:50 AM            11,670 FET_data.xlsx\n",
      "01/15/2019  12:08 PM           245,052 In Class Graphing Assignment - Week 4. 2018Q1pdf.pdf\n",
      "01/15/2019  12:07 PM           217,144 In Class Graphing Assignment - Week 4.pdf\n",
      "06/22/2017  10:11 AM    <DIR>          mfiles\n",
      "01/29/2019  08:47 AM             6,903 tide_data.csv\n",
      "01/29/2019  04:12 PM                72 Untitled.ipynb\n",
      "               6 File(s)        581,906 bytes\n",
      "               4 Dir(s)  106,622,296,064 bytes free\n"
     ]
    }
   ],
   "source": [
    "%ls"
   ]
  },
  {
   "cell_type": "code",
   "execution_count": 6,
   "metadata": {},
   "outputs": [
    {
     "data": {
      "text/html": [
       "<div>\n",
       "<style scoped>\n",
       "    .dataframe tbody tr th:only-of-type {\n",
       "        vertical-align: middle;\n",
       "    }\n",
       "\n",
       "    .dataframe tbody tr th {\n",
       "        vertical-align: top;\n",
       "    }\n",
       "\n",
       "    .dataframe thead th {\n",
       "        text-align: right;\n",
       "    }\n",
       "</style>\n",
       "<table border=\"1\" class=\"dataframe\">\n",
       "  <thead>\n",
       "    <tr style=\"text-align: right;\">\n",
       "      <th></th>\n",
       "      <th>Date Time</th>\n",
       "      <th>Hours</th>\n",
       "      <th>Water Level</th>\n",
       "    </tr>\n",
       "  </thead>\n",
       "  <tbody>\n",
       "    <tr>\n",
       "      <th>0</th>\n",
       "      <td>10/2/2017 0:00</td>\n",
       "      <td>0.0</td>\n",
       "      <td>-0.029</td>\n",
       "    </tr>\n",
       "    <tr>\n",
       "      <th>1</th>\n",
       "      <td>10/2/2017 0:06</td>\n",
       "      <td>0.1</td>\n",
       "      <td>0.002</td>\n",
       "    </tr>\n",
       "    <tr>\n",
       "      <th>2</th>\n",
       "      <td>10/2/2017 0:12</td>\n",
       "      <td>0.2</td>\n",
       "      <td>0.032</td>\n",
       "    </tr>\n",
       "    <tr>\n",
       "      <th>3</th>\n",
       "      <td>10/2/2017 0:18</td>\n",
       "      <td>0.3</td>\n",
       "      <td>0.058</td>\n",
       "    </tr>\n",
       "    <tr>\n",
       "      <th>4</th>\n",
       "      <td>10/2/2017 0:24</td>\n",
       "      <td>0.4</td>\n",
       "      <td>0.089</td>\n",
       "    </tr>\n",
       "  </tbody>\n",
       "</table>\n",
       "</div>"
      ],
      "text/plain": [
       "        Date Time  Hours   Water Level\n",
       "0  10/2/2017 0:00    0.0        -0.029\n",
       "1  10/2/2017 0:06    0.1         0.002\n",
       "2  10/2/2017 0:12    0.2         0.032\n",
       "3  10/2/2017 0:18    0.3         0.058\n",
       "4  10/2/2017 0:24    0.4         0.089"
      ]
     },
     "execution_count": 6,
     "metadata": {},
     "output_type": "execute_result"
    }
   ],
   "source": [
    "# Import data and review\n",
    "df = pd.read_csv('tide_data.csv')\n",
    "df.head()"
   ]
  },
  {
   "cell_type": "code",
   "execution_count": 7,
   "metadata": {},
   "outputs": [
    {
     "data": {
      "text/html": [
       "<div>\n",
       "<style scoped>\n",
       "    .dataframe tbody tr th:only-of-type {\n",
       "        vertical-align: middle;\n",
       "    }\n",
       "\n",
       "    .dataframe tbody tr th {\n",
       "        vertical-align: top;\n",
       "    }\n",
       "\n",
       "    .dataframe thead th {\n",
       "        text-align: right;\n",
       "    }\n",
       "</style>\n",
       "<table border=\"1\" class=\"dataframe\">\n",
       "  <thead>\n",
       "    <tr style=\"text-align: right;\">\n",
       "      <th></th>\n",
       "      <th>Hours</th>\n",
       "      <th>Water Level</th>\n",
       "    </tr>\n",
       "  </thead>\n",
       "  <tbody>\n",
       "    <tr>\n",
       "      <th>0</th>\n",
       "      <td>0.0</td>\n",
       "      <td>-0.029</td>\n",
       "    </tr>\n",
       "    <tr>\n",
       "      <th>1</th>\n",
       "      <td>0.1</td>\n",
       "      <td>0.002</td>\n",
       "    </tr>\n",
       "    <tr>\n",
       "      <th>2</th>\n",
       "      <td>0.2</td>\n",
       "      <td>0.032</td>\n",
       "    </tr>\n",
       "    <tr>\n",
       "      <th>3</th>\n",
       "      <td>0.3</td>\n",
       "      <td>0.058</td>\n",
       "    </tr>\n",
       "    <tr>\n",
       "      <th>4</th>\n",
       "      <td>0.4</td>\n",
       "      <td>0.089</td>\n",
       "    </tr>\n",
       "  </tbody>\n",
       "</table>\n",
       "</div>"
      ],
      "text/plain": [
       "   Hours   Water Level\n",
       "0    0.0        -0.029\n",
       "1    0.1         0.002\n",
       "2    0.2         0.032\n",
       "3    0.3         0.058\n",
       "4    0.4         0.089"
      ]
     },
     "execution_count": 7,
     "metadata": {},
     "output_type": "execute_result"
    }
   ],
   "source": [
    "# Remove the 'Date Time' column so that only the 'Hours' and 'Water Level' Columns remain. \n",
    "# 'Date Time' has slashes / and colon : these characters will be converted to strings in a NumPy array\n",
    "df.drop(columns=['Date Time'], inplace=True)\n",
    "df.head()"
   ]
  },
  {
   "cell_type": "code",
   "execution_count": 9,
   "metadata": {},
   "outputs": [
    {
     "data": {
      "text/plain": [
       "array([[ 0.00e+00, -2.90e-02],\n",
       "       [ 1.00e-01,  2.00e-03],\n",
       "       [ 2.00e-01,  3.20e-02],\n",
       "       [ 3.00e-01,  5.80e-02],\n",
       "       [ 4.00e-01,  8.90e-02],\n",
       "       [ 5.00e-01,  1.14e-01],\n",
       "       [ 6.00e-01,  1.42e-01],\n",
       "       [ 7.00e-01,  1.66e-01],\n",
       "       [ 8.00e-01,  1.92e-01],\n",
       "       [ 9.00e-01,  2.16e-01],\n",
       "       [ 1.00e+00,  2.40e-01],\n",
       "       [ 1.10e+00,  2.64e-01],\n",
       "       [ 1.20e+00,  2.86e-01],\n",
       "       [ 1.30e+00,  3.06e-01],\n",
       "       [ 1.40e+00,  3.27e-01],\n",
       "       [ 1.50e+00,  3.50e-01],\n",
       "       [ 1.60e+00,  3.69e-01],\n",
       "       [ 1.70e+00,  3.88e-01],\n",
       "       [ 1.80e+00,  4.04e-01],\n",
       "       [ 1.90e+00,  4.21e-01],\n",
       "       [ 2.00e+00,  4.36e-01],\n",
       "       [ 2.10e+00,  4.48e-01],\n",
       "       [ 2.20e+00,  4.59e-01],\n",
       "       [ 2.30e+00,  4.68e-01],\n",
       "       [ 2.40e+00,  4.75e-01],\n",
       "       [ 2.50e+00,  4.78e-01],\n",
       "       [ 2.60e+00,  4.78e-01],\n",
       "       [ 2.70e+00,  4.72e-01],\n",
       "       [ 2.80e+00,  4.68e-01],\n",
       "       [ 2.90e+00,  4.60e-01],\n",
       "       [ 3.00e+00,  4.50e-01],\n",
       "       [ 3.10e+00,  4.36e-01],\n",
       "       [ 3.20e+00,  4.26e-01],\n",
       "       [ 3.30e+00,  4.13e-01],\n",
       "       [ 3.40e+00,  3.96e-01],\n",
       "       [ 3.50e+00,  3.81e-01],\n",
       "       [ 3.60e+00,  3.66e-01],\n",
       "       [ 3.70e+00,  3.53e-01],\n",
       "       [ 3.80e+00,  3.37e-01],\n",
       "       [ 3.90e+00,  3.20e-01],\n",
       "       [ 4.00e+00,  3.02e-01],\n",
       "       [ 4.10e+00,  2.86e-01],\n",
       "       [ 4.20e+00,  2.67e-01],\n",
       "       [ 4.30e+00,  2.50e-01],\n",
       "       [ 4.40e+00,  2.32e-01],\n",
       "       [ 4.50e+00,  2.15e-01],\n",
       "       [ 4.60e+00,  2.01e-01],\n",
       "       [ 4.70e+00,  1.85e-01],\n",
       "       [ 4.80e+00,  1.68e-01],\n",
       "       [ 4.90e+00,  1.53e-01],\n",
       "       [ 5.00e+00,  1.38e-01],\n",
       "       [ 5.10e+00,  1.23e-01],\n",
       "       [ 5.20e+00,  1.05e-01],\n",
       "       [ 5.30e+00,  9.00e-02],\n",
       "       [ 5.40e+00,  7.60e-02],\n",
       "       [ 5.50e+00,  5.90e-02],\n",
       "       [ 5.60e+00,  4.50e-02],\n",
       "       [ 5.70e+00,  3.00e-02],\n",
       "       [ 5.80e+00,  2.00e-02],\n",
       "       [ 5.90e+00,  6.00e-03],\n",
       "       [ 6.00e+00, -7.00e-03],\n",
       "       [ 6.10e+00, -1.90e-02],\n",
       "       [ 6.20e+00, -2.70e-02],\n",
       "       [ 6.30e+00, -4.30e-02],\n",
       "       [ 6.40e+00, -5.60e-02],\n",
       "       [ 6.50e+00, -6.90e-02],\n",
       "       [ 6.60e+00, -8.20e-02],\n",
       "       [ 6.70e+00, -9.20e-02],\n",
       "       [ 6.80e+00, -1.06e-01],\n",
       "       [ 6.90e+00, -1.18e-01],\n",
       "       [ 7.00e+00, -1.34e-01],\n",
       "       [ 7.10e+00, -1.46e-01],\n",
       "       [ 7.20e+00, -1.58e-01],\n",
       "       [ 7.30e+00, -1.67e-01],\n",
       "       [ 7.40e+00, -1.81e-01],\n",
       "       [ 7.50e+00, -1.94e-01],\n",
       "       [ 7.60e+00, -2.03e-01],\n",
       "       [ 7.70e+00, -2.17e-01],\n",
       "       [ 7.80e+00, -2.28e-01],\n",
       "       [ 7.90e+00, -2.40e-01],\n",
       "       [ 8.00e+00, -2.51e-01],\n",
       "       [ 8.10e+00, -2.62e-01],\n",
       "       [ 8.20e+00, -2.75e-01],\n",
       "       [ 8.30e+00, -2.86e-01],\n",
       "       [ 8.40e+00, -2.96e-01],\n",
       "       [ 8.50e+00, -3.09e-01],\n",
       "       [ 8.60e+00, -3.19e-01],\n",
       "       [ 8.70e+00, -3.32e-01],\n",
       "       [ 8.80e+00, -3.42e-01],\n",
       "       [ 8.90e+00, -3.52e-01],\n",
       "       [ 9.00e+00, -3.65e-01],\n",
       "       [ 9.10e+00, -3.78e-01],\n",
       "       [ 9.20e+00, -3.89e-01],\n",
       "       [ 9.30e+00, -3.98e-01],\n",
       "       [ 9.40e+00, -4.07e-01],\n",
       "       [ 9.50e+00, -4.17e-01],\n",
       "       [ 9.60e+00, -4.31e-01],\n",
       "       [ 9.70e+00, -4.39e-01],\n",
       "       [ 9.80e+00, -4.49e-01],\n",
       "       [ 9.90e+00, -4.59e-01],\n",
       "       [ 1.00e+01, -4.67e-01],\n",
       "       [ 1.01e+01, -4.76e-01],\n",
       "       [ 1.02e+01, -4.83e-01],\n",
       "       [ 1.03e+01, -4.91e-01],\n",
       "       [ 1.04e+01, -4.98e-01],\n",
       "       [ 1.05e+01, -5.02e-01],\n",
       "       [ 1.06e+01, -5.06e-01],\n",
       "       [ 1.07e+01, -5.10e-01],\n",
       "       [ 1.08e+01, -5.13e-01],\n",
       "       [ 1.09e+01, -5.15e-01],\n",
       "       [ 1.10e+01, -5.14e-01],\n",
       "       [ 1.11e+01, -5.12e-01],\n",
       "       [ 1.12e+01, -5.11e-01],\n",
       "       [ 1.13e+01, -5.06e-01],\n",
       "       [ 1.14e+01, -5.00e-01],\n",
       "       [ 1.15e+01, -4.92e-01],\n",
       "       [ 1.16e+01, -4.80e-01],\n",
       "       [ 1.17e+01, -4.66e-01],\n",
       "       [ 1.18e+01, -4.53e-01],\n",
       "       [ 1.19e+01, -4.38e-01],\n",
       "       [ 1.20e+01, -4.17e-01],\n",
       "       [ 1.21e+01, -3.96e-01],\n",
       "       [ 1.22e+01, -3.74e-01],\n",
       "       [ 1.23e+01, -3.51e-01],\n",
       "       [ 1.24e+01, -3.24e-01],\n",
       "       [ 1.25e+01, -2.93e-01],\n",
       "       [ 1.26e+01, -2.61e-01],\n",
       "       [ 1.27e+01, -2.30e-01],\n",
       "       [ 1.28e+01, -1.95e-01],\n",
       "       [ 1.29e+01, -1.60e-01],\n",
       "       [ 1.30e+01, -1.28e-01],\n",
       "       [ 1.31e+01, -9.70e-02],\n",
       "       [ 1.32e+01, -6.00e-02],\n",
       "       [ 1.33e+01, -2.40e-02],\n",
       "       [ 1.34e+01,  6.00e-03],\n",
       "       [ 1.35e+01,  3.90e-02],\n",
       "       [ 1.36e+01,  7.60e-02],\n",
       "       [ 1.37e+01,  1.08e-01],\n",
       "       [ 1.38e+01,  1.40e-01],\n",
       "       [ 1.39e+01,  1.73e-01],\n",
       "       [ 1.40e+01,  2.06e-01],\n",
       "       [ 1.41e+01,  2.33e-01],\n",
       "       [ 1.42e+01,  2.63e-01],\n",
       "       [ 1.43e+01,  2.91e-01],\n",
       "       [ 1.44e+01,  3.19e-01],\n",
       "       [ 1.45e+01,  3.44e-01],\n",
       "       [ 1.46e+01,  3.69e-01],\n",
       "       [ 1.47e+01,  3.94e-01],\n",
       "       [ 1.48e+01,  4.14e-01],\n",
       "       [ 1.49e+01,  4.46e-01],\n",
       "       [ 1.50e+01,  4.67e-01],\n",
       "       [ 1.51e+01,  4.62e-01],\n",
       "       [ 1.52e+01,  4.86e-01],\n",
       "       [ 1.53e+01,  5.24e-01],\n",
       "       [ 1.54e+01,  5.31e-01],\n",
       "       [ 1.55e+01,  5.41e-01],\n",
       "       [ 1.56e+01,  5.50e-01],\n",
       "       [ 1.57e+01,  5.49e-01],\n",
       "       [ 1.58e+01,  5.50e-01],\n",
       "       [ 1.59e+01,  5.52e-01],\n",
       "       [ 1.60e+01,  5.53e-01],\n",
       "       [ 1.61e+01,  5.45e-01],\n",
       "       [ 1.62e+01,  5.37e-01],\n",
       "       [ 1.63e+01,  5.28e-01],\n",
       "       [ 1.64e+01,  5.08e-01],\n",
       "       [ 1.65e+01,  5.05e-01],\n",
       "       [ 1.66e+01,  4.96e-01],\n",
       "       [ 1.67e+01,  4.83e-01],\n",
       "       [ 1.68e+01,  4.64e-01],\n",
       "       [ 1.69e+01,  4.49e-01],\n",
       "       [ 1.70e+01,  4.32e-01],\n",
       "       [ 1.71e+01,  4.17e-01],\n",
       "       [ 1.72e+01,  4.04e-01],\n",
       "       [ 1.73e+01,  3.89e-01],\n",
       "       [ 1.74e+01,  3.72e-01],\n",
       "       [ 1.75e+01,  3.57e-01],\n",
       "       [ 1.76e+01,  3.44e-01],\n",
       "       [ 1.77e+01,  3.31e-01],\n",
       "       [ 1.78e+01,  3.16e-01],\n",
       "       [ 1.79e+01,  3.02e-01],\n",
       "       [ 1.80e+01,  2.86e-01],\n",
       "       [ 1.81e+01,  2.75e-01],\n",
       "       [ 1.82e+01,  2.60e-01],\n",
       "       [ 1.83e+01,  2.47e-01],\n",
       "       [ 1.84e+01,  2.34e-01],\n",
       "       [ 1.85e+01,  2.21e-01],\n",
       "       [ 1.86e+01,  2.07e-01],\n",
       "       [ 1.87e+01,  1.94e-01],\n",
       "       [ 1.88e+01,  1.79e-01],\n",
       "       [ 1.89e+01,  1.64e-01],\n",
       "       [ 1.90e+01,  1.53e-01],\n",
       "       [ 1.91e+01,  1.41e-01],\n",
       "       [ 1.92e+01,  1.31e-01],\n",
       "       [ 1.93e+01,  1.17e-01],\n",
       "       [ 1.94e+01,  1.07e-01],\n",
       "       [ 1.95e+01,  9.40e-02],\n",
       "       [ 1.96e+01,  8.20e-02],\n",
       "       [ 1.97e+01,  7.10e-02],\n",
       "       [ 1.98e+01,  5.90e-02],\n",
       "       [ 1.99e+01,  4.90e-02],\n",
       "       [ 2.00e+01,  3.90e-02],\n",
       "       [ 2.01e+01,  2.90e-02],\n",
       "       [ 2.02e+01,  1.80e-02],\n",
       "       [ 2.03e+01,  8.00e-03],\n",
       "       [ 2.04e+01, -1.00e-03],\n",
       "       [ 2.05e+01, -1.20e-02],\n",
       "       [ 2.06e+01, -2.20e-02],\n",
       "       [ 2.07e+01, -3.30e-02],\n",
       "       [ 2.08e+01, -4.30e-02],\n",
       "       [ 2.09e+01, -5.40e-02],\n",
       "       [ 2.10e+01, -6.20e-02],\n",
       "       [ 2.11e+01, -7.10e-02],\n",
       "       [ 2.12e+01, -8.20e-02],\n",
       "       [ 2.13e+01, -9.10e-02],\n",
       "       [ 2.14e+01, -1.01e-01],\n",
       "       [ 2.15e+01, -1.11e-01],\n",
       "       [ 2.16e+01, -1.20e-01],\n",
       "       [ 2.17e+01, -1.31e-01],\n",
       "       [ 2.18e+01, -1.39e-01],\n",
       "       [ 2.19e+01, -1.49e-01],\n",
       "       [ 2.20e+01, -1.56e-01],\n",
       "       [ 2.21e+01, -1.64e-01],\n",
       "       [ 2.22e+01, -1.72e-01],\n",
       "       [ 2.23e+01, -1.80e-01],\n",
       "       [ 2.24e+01, -1.86e-01],\n",
       "       [ 2.25e+01, -1.93e-01],\n",
       "       [ 2.26e+01, -1.99e-01],\n",
       "       [ 2.27e+01, -2.05e-01],\n",
       "       [ 2.28e+01, -2.07e-01],\n",
       "       [ 2.29e+01, -2.10e-01],\n",
       "       [ 2.30e+01, -2.13e-01],\n",
       "       [ 2.31e+01, -2.14e-01],\n",
       "       [ 2.32e+01, -2.13e-01],\n",
       "       [ 2.33e+01, -2.10e-01],\n",
       "       [ 2.34e+01, -2.06e-01],\n",
       "       [ 2.35e+01, -2.00e-01],\n",
       "       [ 2.36e+01, -1.92e-01],\n",
       "       [ 2.37e+01, -1.82e-01],\n",
       "       [ 2.38e+01, -1.69e-01],\n",
       "       [ 2.39e+01, -1.57e-01],\n",
       "       [ 2.40e+01, -1.41e-01]])"
      ]
     },
     "execution_count": 9,
     "metadata": {},
     "output_type": "execute_result"
    }
   ],
   "source": [
    "# convert the dataframe into a NumPy array\n",
    "td = np.array(df)\n",
    "#print(td)"
   ]
  },
  {
   "cell_type": "code",
   "execution_count": 23,
   "metadata": {},
   "outputs": [
    {
     "name": "stdout",
     "output_type": "stream",
     "text": [
      "low tide level: -0.515\n",
      "low tide row: 109\n",
      "low tide time 10.9\n",
      "\n",
      "high tide level: 0.553\n",
      "high tide row: 160\n",
      "low tide time 16.0\n"
     ]
    }
   ],
   "source": [
    "# Find Low tide and High tide\n",
    "lowt_l = np.min(td[:,1])\n",
    "print('low tide level:', lowt_l)\n",
    "lowt_row = np.where(td==lowt_l)[0][0]\n",
    "print('low tide row:', lowt_row)\n",
    "lowt_t = td[lowt_row,0]\n",
    "print('low tide time', lowt_t)\n",
    "\n",
    "print()\n",
    "\n",
    "hight_l = np.max(td[:,1])\n",
    "print('high tide level:', round(hight_l,3))\n",
    "hight_row = np.where(td==hight_l)[0][0]\n",
    "print('high tide row:', hight_row)\n",
    "hight_t = td[hight_row,0]\n",
    "print('low tide time', hight_t)"
   ]
  },
  {
   "cell_type": "code",
   "execution_count": 26,
   "metadata": {},
   "outputs": [
    {
     "data": {
      "image/png": "[encoded data removed]",
      "text/plain": [
       "<Figure size 432x288 with 1 Axes>"
      ]
     },
     "metadata": {
      "needs_background": "light"
     },
     "output_type": "display_data"
    }
   ],
   "source": [
    "# plot tide level vs. time\n",
    "fig, ax = plt.subplots()\n",
    "\n",
    "ax.plot(td[:,0],td[:,1])\n",
    "ax.set_xlabel('Time (hours since midnight)')\n",
    "ax.set_ylabel('Water Level (feet compared to sea level)')\n",
    "ax.set_title('Tide Level over a 24 hour period')\n",
    "plt.show()"
   ]
  },
  {
   "cell_type": "markdown",
   "metadata": {},
   "source": [
    "## Plot FET Data from a .xlsx file\n",
    "\n"
   ]
  },
  {
   "cell_type": "code",
   "execution_count": 27,
   "metadata": {},
   "outputs": [
    {
     "name": "stdout",
     "output_type": "stream",
     "text": [
      " Volume in drive C is Windows\n",
      " Volume Serial Number is A048-4C53\n",
      "\n",
      " Directory of C:\\Users\\peter.kazarinoff\\Documents\\ENGR 114 Intro to Progaming\\Class_Notes\\ENGR114-Class_Notes-Ch05-Plotting\n",
      "\n",
      "01/29/2019  04:26 PM    <DIR>          .\n",
      "01/29/2019  04:26 PM    <DIR>          ..\n",
      "01/29/2019  04:12 PM    <DIR>          .ipynb_checkpoints\n",
      "02/02/2017  09:08 AM           101,065 ENGR114-Class_Notes-Ch05.pptx\n",
      "01/29/2019  08:50 AM            11,670 FET_data.xlsx\n",
      "01/15/2019  12:08 PM           245,052 In Class Graphing Assignment - Week 4. 2018Q1pdf.pdf\n",
      "01/15/2019  12:07 PM           217,144 In Class Graphing Assignment - Week 4.pdf\n",
      "06/22/2017  10:11 AM    <DIR>          mfiles\n",
      "01/29/2019  08:47 AM             6,903 tide_data.csv\n",
      "01/29/2019  04:26 PM            36,638 Untitled.ipynb\n",
      "               6 File(s)        618,472 bytes\n",
      "               4 Dir(s)  106,621,100,032 bytes free\n"
     ]
    }
   ],
   "source": [
    "%ls"
   ]
  },
  {
   "cell_type": "code",
   "execution_count": 28,
   "metadata": {},
   "outputs": [
    {
     "data": {
      "text/html": [
       "<div>\n",
       "<style scoped>\n",
       "    .dataframe tbody tr th:only-of-type {\n",
       "        vertical-align: middle;\n",
       "    }\n",
       "\n",
       "    .dataframe tbody tr th {\n",
       "        vertical-align: top;\n",
       "    }\n",
       "\n",
       "    .dataframe thead th {\n",
       "        text-align: right;\n",
       "    }\n",
       "</style>\n",
       "<table border=\"1\" class=\"dataframe\">\n",
       "  <thead>\n",
       "    <tr style=\"text-align: right;\">\n",
       "      <th></th>\n",
       "      <th>0</th>\n",
       "      <th>1</th>\n",
       "    </tr>\n",
       "  </thead>\n",
       "  <tbody>\n",
       "    <tr>\n",
       "      <th>0</th>\n",
       "      <td>-40</td>\n",
       "      <td>8.170000e-10</td>\n",
       "    </tr>\n",
       "    <tr>\n",
       "      <th>1</th>\n",
       "      <td>-39</td>\n",
       "      <td>1.190000e-09</td>\n",
       "    </tr>\n",
       "    <tr>\n",
       "      <th>2</th>\n",
       "      <td>-38</td>\n",
       "      <td>1.070000e-09</td>\n",
       "    </tr>\n",
       "    <tr>\n",
       "      <th>3</th>\n",
       "      <td>-37</td>\n",
       "      <td>1.350000e-09</td>\n",
       "    </tr>\n",
       "    <tr>\n",
       "      <th>4</th>\n",
       "      <td>-36</td>\n",
       "      <td>1.410000e-09</td>\n",
       "    </tr>\n",
       "  </tbody>\n",
       "</table>\n",
       "</div>"
      ],
      "text/plain": [
       "    0             1\n",
       "0 -40  8.170000e-10\n",
       "1 -39  1.190000e-09\n",
       "2 -38  1.070000e-09\n",
       "3 -37  1.350000e-09\n",
       "4 -36  1.410000e-09"
      ]
     },
     "execution_count": 28,
     "metadata": {},
     "output_type": "execute_result"
    }
   ],
   "source": [
    "df = pd.read_excel('FET_data.xlsx', header=None)\n",
    "df.head()"
   ]
  },
  {
   "cell_type": "code",
   "execution_count": 30,
   "metadata": {},
   "outputs": [],
   "source": [
    "fet = np.array(df)\n",
    "#print(fet)"
   ]
  },
  {
   "cell_type": "code",
   "execution_count": 37,
   "metadata": {},
   "outputs": [
    {
     "name": "stdout",
     "output_type": "stream",
     "text": [
      "On/off ratio: 855046.0  A\n",
      "Threshold Volage: 4.0  V\n"
     ]
    }
   ],
   "source": [
    "# Calculate on/off ratio\n",
    "min_i = np.min(fet[:,1])\n",
    "max_i = np.max(fet[:,1])\n",
    "on_off_ratio = max_i/min_i\n",
    "print('On/off ratio:',round(on_off_ratio,0), ' A')\n",
    "\n",
    "# Calculate threshold voltage\n",
    "row = np.where(fet[:,1]==min_i)[0][0]\n",
    "thresh_v = fet[row,0]\n",
    "print('Threshold Volage:', thresh_v, ' V')"
   ]
  },
  {
   "cell_type": "code",
   "execution_count": 39,
   "metadata": {},
   "outputs": [
    {
     "data": {
      "image/png": "[encoded data removed]",
      "text/plain": [
       "<Figure size 432x288 with 1 Axes>"
      ]
     },
     "metadata": {
      "needs_background": "light"
     },
     "output_type": "display_data"
    }
   ],
   "source": [
    "# plot the fet data with a logarithmic y-axis\n",
    "fig, ax = plt.subplots()\n",
    "ax.semilogy(fet[:,0],fet[:,1])\n",
    "ax.set_xlabel('Voltage (V)')\n",
    "ax.set_ylabel('Log of Current (A)')\n",
    "ax.set_title('Current vs. Voltage of a FET')\n",
    "plt.show()"
   ]
  },
  {
   "cell_type": "markdown",
   "metadata": {},
   "source": [
    "## Y-Y plot\n",
    "\n",
    "a Y-Y plot is a plot with two different y axes and a shared x axis. Useful if two data sets share the same set of x-values but their y-values are very different."
   ]
  },
  {
   "cell_type": "code",
   "execution_count": 40,
   "metadata": {},
   "outputs": [],
   "source": [
    "x = np.arange(0,5,0.1)\n",
    "y1 = np.cos(x)\n",
    "y2 = np.exp(x)"
   ]
  },
  {
   "cell_type": "code",
   "execution_count": 49,
   "metadata": {},
   "outputs": [
    {
     "data": {
      "image/png": "[encoded data removed]",
      "text/plain": [
       "<Figure size 432x288 with 2 Axes>"
      ]
     },
     "metadata": {
      "needs_background": "light"
     },
     "output_type": "display_data"
    }
   ],
   "source": [
    "fig, ax1 = plt.subplots()\n",
    "\n",
    "ax1.plot(x,y1, 'b')\n",
    "ax1.set_xlabel('x from 0 to 5')\n",
    "ax1.set_ylabel('cos(x)',color='b')\n",
    "ax1.tick_params(axis='y', labelcolor='b')\n",
    "ax1.set_title('cos(x) and $e^x$ on a Y-Y plot')\n",
    "\n",
    "ax2 = ax1.twinx()\n",
    "ax2.plot(x,y2,'r')\n",
    "ax2.set_ylabel('$e^x$', color='r')\n",
    "ax2.tick_params(axis='y', labelcolor='r')\n",
    "\n",
    "plt.show()"
   ]
  },
  {
   "cell_type": "code",
   "execution_count": null,
   "metadata": {},
   "outputs": [],
   "source": []
  }
 ],
 "metadata": {
  "kernelspec": {
   "display_name": "Python 3",
   "language": "python",
   "name": "python3"
  },
  "language_info": {
   "codemirror_mode": {
    "name": "ipython",
    "version": 3
   },
   "file_extension": ".py",
   "mimetype": "text/x-python",
   "name": "python",
   "nbconvert_exporter": "python",
   "pygments_lexer": "ipython3",
   "version": "3.6.4"
  }
 },
 "nbformat": 4,
 "nbformat_minor": 2
}
